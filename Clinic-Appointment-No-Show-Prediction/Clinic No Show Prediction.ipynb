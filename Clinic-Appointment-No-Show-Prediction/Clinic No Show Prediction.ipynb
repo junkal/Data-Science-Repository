{
 "cells": [
  {
   "cell_type": "code",
   "execution_count": 1,
   "metadata": {
    "collapsed": true
   },
   "outputs": [],
   "source": [
    "import pandas as pd\n",
    "import numpy as np\n",
    "import matplotlib.pyplot as plt\n",
    "from sklearn.model_selection import train_test_split\n",
    "from sklearn.model_selection import cross_val_score\n",
    "from sklearn.model_selection import KFold\n",
    "from sklearn.tree import DecisionTreeClassifier\n",
    "from sklearn.neighbors import KNeighborsClassifier\n",
    "from sklearn.naive_bayes import GaussianNB\n",
    "from sklearn.svm import LinearSVC\n",
    "from sklearn.pipeline import Pipeline\n",
    "from sklearn.preprocessing import StandardScaler\n",
    "from sklearn.model_selection import GridSearchCV\n",
    "import time"
   ]
  },
  {
   "cell_type": "markdown",
   "metadata": {},
   "source": [
    "## Exploration data analysis and re-processing\n",
    "\n",
    "Load the csv file and visually inspect if the data is ready for analysis."
   ]
  },
  {
   "cell_type": "code",
   "execution_count": 2,
   "metadata": {
    "collapsed": true
   },
   "outputs": [],
   "source": [
    "data = pd.read_csv('No-show-Issue-Comma-300k.csv')\n",
    "#data.head(50)"
   ]
  },
  {
   "cell_type": "markdown",
   "metadata": {},
   "source": [
    "Check the dimension of the data set, to make sure the number of rows is 300K and verify the number of columns"
   ]
  },
  {
   "cell_type": "code",
   "execution_count": 3,
   "metadata": {},
   "outputs": [
    {
     "name": "stdout",
     "output_type": "stream",
     "text": [
      "(300000, 15)\n"
     ]
    }
   ],
   "source": [
    "print(data.shape)"
   ]
  },
  {
   "cell_type": "markdown",
   "metadata": {},
   "source": [
    "Do a check if the data set is complete -- no missing values or NaN. "
   ]
  },
  {
   "cell_type": "code",
   "execution_count": 4,
   "metadata": {},
   "outputs": [
    {
     "data": {
      "text/plain": [
       "Age                        0\n",
       "Gender                     0\n",
       "AppointmentRegistration    0\n",
       "ApointmentData             0\n",
       "DayOfTheWeek               0\n",
       "Status                     0\n",
       "Diabetes                   0\n",
       "Alcoolism                  0\n",
       "HiperTension               0\n",
       "Handcap                    0\n",
       "Smokes                     0\n",
       "Scholarship                0\n",
       "Tuberculosis               0\n",
       "Sms_Reminder               0\n",
       "AwaitingTime               0\n",
       "dtype: int64"
      ]
     },
     "execution_count": 4,
     "metadata": {},
     "output_type": "execute_result"
    }
   ],
   "source": [
    "#Print total number of NaNs\n",
    "data.isnull().sum()"
   ]
  },
  {
   "cell_type": "markdown",
   "metadata": {},
   "source": [
    "From visual analysis, it is a good idea to enumerate the following columns:\n",
    "* Gender (M/F)\n",
    "* DayOfTheWeek\n",
    "* Status"
   ]
  },
  {
   "cell_type": "code",
   "execution_count": 5,
   "metadata": {
    "collapsed": true
   },
   "outputs": [],
   "source": [
    "gender_map = {'M': 1, 'F': 2}\n",
    "DayOfTheWeek_map = {'Monday':1, 'Tuesday':2, 'Wednesday':3, 'Thursday':4, 'Friday':5, 'Saturday':6, 'Sunday':7}\n",
    "Status_map = {'Show-Up': 1, 'No-Show': 0}\n",
    "\n",
    "data['Gender'] = data.Gender.map(gender_map)\n",
    "data['DayOfTheWeek'] = data.DayOfTheWeek.map(DayOfTheWeek_map)\n",
    "data['Status'] = data.Status.map(Status_map)"
   ]
  },
  {
   "cell_type": "markdown",
   "metadata": {},
   "source": [
    "Rename the columns to correct the spelling error:\n",
    "* Alcoolism\n",
    "* HiperTension\n",
    "* Handcap\n",
    "* ApointmentData"
   ]
  },
  {
   "cell_type": "code",
   "execution_count": 6,
   "metadata": {
    "collapsed": true
   },
   "outputs": [],
   "source": [
    "data = data.rename(columns = {'Alcoolism':'Alchoholism', \n",
    "                              'HiperTension' : \"Hypertension\", \n",
    "                              'Handcap':'Handicap', \n",
    "                              'ApointmentData':'AppointmentDate'})"
   ]
  },
  {
   "cell_type": "markdown",
   "metadata": {},
   "source": [
    "In addition, I think we should break the columns **AppointmentRegistration** and **AppointmentData** into date and time columns using numpy datetime64 function. I apply the np.datatime64 function on these 2 columns and further split each column into the Date and Time fields. After that, I drop the original AppointmentRegistration and AppointmentData fields"
   ]
  },
  {
   "cell_type": "code",
   "execution_count": 7,
   "metadata": {},
   "outputs": [
    {
     "data": {
      "text/html": [
       "<div>\n",
       "<style>\n",
       "    .dataframe thead tr:only-child th {\n",
       "        text-align: right;\n",
       "    }\n",
       "\n",
       "    .dataframe thead th {\n",
       "        text-align: left;\n",
       "    }\n",
       "\n",
       "    .dataframe tbody tr th {\n",
       "        vertical-align: top;\n",
       "    }\n",
       "</style>\n",
       "<table border=\"1\" class=\"dataframe\">\n",
       "  <thead>\n",
       "    <tr style=\"text-align: right;\">\n",
       "      <th></th>\n",
       "      <th>Age</th>\n",
       "      <th>Gender</th>\n",
       "      <th>DayOfTheWeek</th>\n",
       "      <th>Status</th>\n",
       "      <th>Diabetes</th>\n",
       "      <th>Alchoholism</th>\n",
       "      <th>Hypertension</th>\n",
       "      <th>Handicap</th>\n",
       "      <th>Smokes</th>\n",
       "      <th>Scholarship</th>\n",
       "      <th>Tuberculosis</th>\n",
       "      <th>Sms_Reminder</th>\n",
       "      <th>AwaitingTime</th>\n",
       "      <th>AppointmentRegistration-Date</th>\n",
       "      <th>AppointmentRegistration-Time</th>\n",
       "      <th>AppointmentDate-Date</th>\n",
       "      <th>AppointmentDate-Time</th>\n",
       "    </tr>\n",
       "  </thead>\n",
       "  <tbody>\n",
       "    <tr>\n",
       "      <th>0</th>\n",
       "      <td>19</td>\n",
       "      <td>1</td>\n",
       "      <td>3</td>\n",
       "      <td>1</td>\n",
       "      <td>0</td>\n",
       "      <td>0</td>\n",
       "      <td>0</td>\n",
       "      <td>0</td>\n",
       "      <td>0</td>\n",
       "      <td>0</td>\n",
       "      <td>0</td>\n",
       "      <td>0</td>\n",
       "      <td>-29</td>\n",
       "      <td>2014-12-16</td>\n",
       "      <td>14:46:25</td>\n",
       "      <td>2015-01-14</td>\n",
       "      <td>00:00:00</td>\n",
       "    </tr>\n",
       "    <tr>\n",
       "      <th>1</th>\n",
       "      <td>24</td>\n",
       "      <td>2</td>\n",
       "      <td>3</td>\n",
       "      <td>1</td>\n",
       "      <td>0</td>\n",
       "      <td>0</td>\n",
       "      <td>0</td>\n",
       "      <td>0</td>\n",
       "      <td>0</td>\n",
       "      <td>0</td>\n",
       "      <td>0</td>\n",
       "      <td>0</td>\n",
       "      <td>-1</td>\n",
       "      <td>2015-08-18</td>\n",
       "      <td>07:01:26</td>\n",
       "      <td>2015-08-19</td>\n",
       "      <td>00:00:00</td>\n",
       "    </tr>\n",
       "    <tr>\n",
       "      <th>2</th>\n",
       "      <td>4</td>\n",
       "      <td>2</td>\n",
       "      <td>2</td>\n",
       "      <td>1</td>\n",
       "      <td>0</td>\n",
       "      <td>0</td>\n",
       "      <td>0</td>\n",
       "      <td>0</td>\n",
       "      <td>0</td>\n",
       "      <td>0</td>\n",
       "      <td>0</td>\n",
       "      <td>0</td>\n",
       "      <td>-1</td>\n",
       "      <td>2014-02-17</td>\n",
       "      <td>12:53:46</td>\n",
       "      <td>2014-02-18</td>\n",
       "      <td>00:00:00</td>\n",
       "    </tr>\n",
       "    <tr>\n",
       "      <th>3</th>\n",
       "      <td>5</td>\n",
       "      <td>1</td>\n",
       "      <td>4</td>\n",
       "      <td>1</td>\n",
       "      <td>0</td>\n",
       "      <td>0</td>\n",
       "      <td>0</td>\n",
       "      <td>0</td>\n",
       "      <td>0</td>\n",
       "      <td>0</td>\n",
       "      <td>0</td>\n",
       "      <td>1</td>\n",
       "      <td>-15</td>\n",
       "      <td>2014-07-23</td>\n",
       "      <td>17:02:11</td>\n",
       "      <td>2014-08-07</td>\n",
       "      <td>00:00:00</td>\n",
       "    </tr>\n",
       "    <tr>\n",
       "      <th>4</th>\n",
       "      <td>38</td>\n",
       "      <td>1</td>\n",
       "      <td>2</td>\n",
       "      <td>1</td>\n",
       "      <td>0</td>\n",
       "      <td>0</td>\n",
       "      <td>0</td>\n",
       "      <td>0</td>\n",
       "      <td>0</td>\n",
       "      <td>0</td>\n",
       "      <td>0</td>\n",
       "      <td>1</td>\n",
       "      <td>-6</td>\n",
       "      <td>2015-10-21</td>\n",
       "      <td>15:20:09</td>\n",
       "      <td>2015-10-27</td>\n",
       "      <td>00:00:00</td>\n",
       "    </tr>\n",
       "    <tr>\n",
       "      <th>5</th>\n",
       "      <td>5</td>\n",
       "      <td>2</td>\n",
       "      <td>2</td>\n",
       "      <td>0</td>\n",
       "      <td>0</td>\n",
       "      <td>0</td>\n",
       "      <td>0</td>\n",
       "      <td>0</td>\n",
       "      <td>0</td>\n",
       "      <td>0</td>\n",
       "      <td>0</td>\n",
       "      <td>1</td>\n",
       "      <td>-35</td>\n",
       "      <td>2014-06-17</td>\n",
       "      <td>06:47:27</td>\n",
       "      <td>2014-07-22</td>\n",
       "      <td>00:00:00</td>\n",
       "    </tr>\n",
       "    <tr>\n",
       "      <th>6</th>\n",
       "      <td>46</td>\n",
       "      <td>2</td>\n",
       "      <td>2</td>\n",
       "      <td>1</td>\n",
       "      <td>0</td>\n",
       "      <td>0</td>\n",
       "      <td>0</td>\n",
       "      <td>0</td>\n",
       "      <td>0</td>\n",
       "      <td>0</td>\n",
       "      <td>0</td>\n",
       "      <td>1</td>\n",
       "      <td>-18</td>\n",
       "      <td>2015-06-19</td>\n",
       "      <td>19:53:58</td>\n",
       "      <td>2015-07-07</td>\n",
       "      <td>00:00:00</td>\n",
       "    </tr>\n",
       "    <tr>\n",
       "      <th>7</th>\n",
       "      <td>4</td>\n",
       "      <td>2</td>\n",
       "      <td>5</td>\n",
       "      <td>1</td>\n",
       "      <td>0</td>\n",
       "      <td>0</td>\n",
       "      <td>0</td>\n",
       "      <td>0</td>\n",
       "      <td>0</td>\n",
       "      <td>1</td>\n",
       "      <td>0</td>\n",
       "      <td>1</td>\n",
       "      <td>-14</td>\n",
       "      <td>2015-08-07</td>\n",
       "      <td>08:19:19</td>\n",
       "      <td>2015-08-21</td>\n",
       "      <td>00:00:00</td>\n",
       "    </tr>\n",
       "    <tr>\n",
       "      <th>8</th>\n",
       "      <td>20</td>\n",
       "      <td>2</td>\n",
       "      <td>2</td>\n",
       "      <td>1</td>\n",
       "      <td>0</td>\n",
       "      <td>0</td>\n",
       "      <td>0</td>\n",
       "      <td>0</td>\n",
       "      <td>0</td>\n",
       "      <td>0</td>\n",
       "      <td>0</td>\n",
       "      <td>0</td>\n",
       "      <td>-14</td>\n",
       "      <td>2014-10-14</td>\n",
       "      <td>11:46:36</td>\n",
       "      <td>2014-10-28</td>\n",
       "      <td>00:00:00</td>\n",
       "    </tr>\n",
       "    <tr>\n",
       "      <th>9</th>\n",
       "      <td>51</td>\n",
       "      <td>2</td>\n",
       "      <td>2</td>\n",
       "      <td>1</td>\n",
       "      <td>1</td>\n",
       "      <td>0</td>\n",
       "      <td>1</td>\n",
       "      <td>0</td>\n",
       "      <td>0</td>\n",
       "      <td>0</td>\n",
       "      <td>0</td>\n",
       "      <td>1</td>\n",
       "      <td>-4</td>\n",
       "      <td>2014-06-13</td>\n",
       "      <td>07:50:43</td>\n",
       "      <td>2014-06-17</td>\n",
       "      <td>00:00:00</td>\n",
       "    </tr>\n",
       "  </tbody>\n",
       "</table>\n",
       "</div>"
      ],
      "text/plain": [
       "   Age  Gender  DayOfTheWeek  Status  Diabetes  Alchoholism  Hypertension  \\\n",
       "0   19       1             3       1         0            0             0   \n",
       "1   24       2             3       1         0            0             0   \n",
       "2    4       2             2       1         0            0             0   \n",
       "3    5       1             4       1         0            0             0   \n",
       "4   38       1             2       1         0            0             0   \n",
       "5    5       2             2       0         0            0             0   \n",
       "6   46       2             2       1         0            0             0   \n",
       "7    4       2             5       1         0            0             0   \n",
       "8   20       2             2       1         0            0             0   \n",
       "9   51       2             2       1         1            0             1   \n",
       "\n",
       "   Handicap  Smokes  Scholarship  Tuberculosis  Sms_Reminder  AwaitingTime  \\\n",
       "0         0       0            0             0             0           -29   \n",
       "1         0       0            0             0             0            -1   \n",
       "2         0       0            0             0             0            -1   \n",
       "3         0       0            0             0             1           -15   \n",
       "4         0       0            0             0             1            -6   \n",
       "5         0       0            0             0             1           -35   \n",
       "6         0       0            0             0             1           -18   \n",
       "7         0       0            1             0             1           -14   \n",
       "8         0       0            0             0             0           -14   \n",
       "9         0       0            0             0             1            -4   \n",
       "\n",
       "  AppointmentRegistration-Date AppointmentRegistration-Time  \\\n",
       "0                   2014-12-16                     14:46:25   \n",
       "1                   2015-08-18                     07:01:26   \n",
       "2                   2014-02-17                     12:53:46   \n",
       "3                   2014-07-23                     17:02:11   \n",
       "4                   2015-10-21                     15:20:09   \n",
       "5                   2014-06-17                     06:47:27   \n",
       "6                   2015-06-19                     19:53:58   \n",
       "7                   2015-08-07                     08:19:19   \n",
       "8                   2014-10-14                     11:46:36   \n",
       "9                   2014-06-13                     07:50:43   \n",
       "\n",
       "  AppointmentDate-Date AppointmentDate-Time  \n",
       "0           2015-01-14             00:00:00  \n",
       "1           2015-08-19             00:00:00  \n",
       "2           2014-02-18             00:00:00  \n",
       "3           2014-08-07             00:00:00  \n",
       "4           2015-10-27             00:00:00  \n",
       "5           2014-07-22             00:00:00  \n",
       "6           2015-07-07             00:00:00  \n",
       "7           2015-08-21             00:00:00  \n",
       "8           2014-10-28             00:00:00  \n",
       "9           2014-06-17             00:00:00  "
      ]
     },
     "execution_count": 7,
     "metadata": {},
     "output_type": "execute_result"
    }
   ],
   "source": [
    "data.AppointmentRegistration = data.AppointmentRegistration.apply(np.datetime64)\n",
    "data.AppointmentDate = data.AppointmentDate.apply(np.datetime64)\n",
    "\n",
    "data['AppointmentRegistration-Date'] = pd.to_datetime(data.AppointmentRegistration).dt.date\n",
    "data['AppointmentRegistration-Time'] = pd.to_datetime(data.AppointmentRegistration).dt.time\n",
    "\n",
    "data['AppointmentDate-Date'] = pd.to_datetime(data.AppointmentDate).dt.date\n",
    "data['AppointmentDate-Time'] = pd.to_datetime(data.AppointmentDate).dt.time\n",
    "\n",
    "data = data.drop('AppointmentRegistration', axis=1)\n",
    "data = data.drop('AppointmentDate', axis=1)\n",
    "\n",
    "data.head(10)"
   ]
  },
  {
   "cell_type": "markdown",
   "metadata": {},
   "source": [
    "From the resulting data frame, we can see that the entire **AppointmentData-Time** column is 0. This column is definitely not useful, so it is dropped from the dataframe. In addition, the **AwaitingTime** captures the information of no. of days between the Appointment Registration Date and Appointment Date. In this version of analsis, we assume that the Appointment Registration Date and Appoint Date are not important and not used in this analysis. A possible enhancement to the analysis is to see if the **AppointmentDate**, **Appointment Registration-Date** and **AppointmentRegistration-Time** affects the No-Show status."
   ]
  },
  {
   "cell_type": "code",
   "execution_count": 8,
   "metadata": {
    "collapsed": true
   },
   "outputs": [],
   "source": [
    "data.drop('AppointmentDate-Time', axis=1, inplace=True)\n",
    "data.drop('AppointmentDate-Date', axis=1, inplace=True)\n",
    "data.drop('AppointmentRegistration-Date', axis=1, inplace=True)\n",
    "data.drop('AppointmentRegistration-Time', axis=1, inplace=True) "
   ]
  },
  {
   "cell_type": "markdown",
   "metadata": {},
   "source": [
    "Take a look at the breakdown of the target class values (status). About 30% of the status is 0 (No-Show)"
   ]
  },
  {
   "cell_type": "code",
   "execution_count": 9,
   "metadata": {},
   "outputs": [
    {
     "name": "stdout",
     "output_type": "stream",
     "text": [
      "Status\n",
      "0     90731\n",
      "1    209269\n",
      "dtype: int64\n"
     ]
    }
   ],
   "source": [
    "print(data.groupby('Status').size())"
   ]
  },
  {
   "cell_type": "code",
   "execution_count": 10,
   "metadata": {
    "collapsed": true
   },
   "outputs": [],
   "source": [
    "data.to_csv('No-show-Issue-Comma-300k_cleaned.csv', index=False)"
   ]
  },
  {
   "cell_type": "markdown",
   "metadata": {},
   "source": [
    "## Baseline algorithm checking\n",
    "\n",
    "Based on a certain set of conditions, we intend to predict the likelihood of appointment no-show (either 1 or 0). This is a binary classification problem, and a few algorithms are appropriate for use. However, we do not know which one will perform the best at the point. The best is to do a quick test on the few appropriate algorithms without tuning to get an early indication of each of them perform. We will use 10 fold cross validation for each testing.\n",
    "\n",
    "I will use the non-linear algorithms for testing, namely: **Classification and Regression Trees (CART)**, **Linear Support Vector Machines (SVM)**, **Gaussian Naive Bayes (NB)** and **k-Nearest Neighbors (KNN)**."
   ]
  },
  {
   "cell_type": "code",
   "execution_count": 11,
   "metadata": {
    "collapsed": true
   },
   "outputs": [],
   "source": [
    "models_list = []\n",
    "models_list.append(('CART', DecisionTreeClassifier()))\n",
    "models_list.append(('Linear SVM', LinearSVC())) \n",
    "models_list.append(('NB', GaussianNB()))\n",
    "models_list.append(('KNN', KNeighborsClassifier()))"
   ]
  },
  {
   "cell_type": "markdown",
   "metadata": {},
   "source": [
    "## Trial run of algorithms on sampled dataset\n",
    "\n",
    "This analysis is done on my Macbook Air with 8GB. With 300K rows, the algorithm performance on the dataset is extremely slow. Since the intention here is to see how the algorithms perform indicatively, I will use just 5% sample from the main dataset (~about 10,000 rows). Then these selected rows will be used to test against the 4 non-linear algorithms.\n",
    "\n",
    "The sampled data set is spliited into 2 - Y and X, where Y holds the target variable 'Status'."
   ]
  },
  {
   "cell_type": "code",
   "execution_count": 12,
   "metadata": {
    "collapsed": true
   },
   "outputs": [],
   "source": [
    "data = pd.read_csv('No-show-Issue-Comma-300k_cleaned.csv')\n",
    "sample_size = 10000\n",
    "data_sample = data.sample(n=sample_size, replace=False, random_state= 123)\n",
    "\n",
    "# Create arrays for the features and the response variable\n",
    "Y_sample = data_sample['Status'].values\n",
    "X_sample = data_sample.drop('Status', axis=1).values"
   ]
  },
  {
   "cell_type": "code",
   "execution_count": 13,
   "metadata": {},
   "outputs": [
    {
     "name": "stdout",
     "output_type": "stream",
     "text": [
      "CART: 0.574000 (0.014526) (run time: 0.244556)\n",
      "Linear SVM: 0.525600 (0.164432) (run time: 5.153024)\n",
      "NB: 0.659400 (0.013756) (run time: 0.045433)\n",
      "KNN: 0.647000 (0.012767) (run time: 0.185316)\n"
     ]
    }
   ],
   "source": [
    "num_folds = 10\n",
    "results = []\n",
    "names = []\n",
    "\n",
    "for name, model in models_list:\n",
    "    kfold = KFold(n_splits=num_folds, random_state=123)\n",
    "    start = time.time()\n",
    "    cv_results = cross_val_score(model, X_sample, Y_sample, cv=kfold, scoring='accuracy')\n",
    "    end = time.time()\n",
    "    results.append(cv_results)\n",
    "    names.append(name)\n",
    "    print( \"%s: %f (%f) (run time: %f)\" % (name, cv_results.mean(), cv_results.std(), end-start))\n"
   ]
  },
  {
   "cell_type": "markdown",
   "metadata": {},
   "source": [
    "From the above trial run, the results suggest that the Linear Support Vector Machine, Gaussian Naive Bayes and and K-Nearest Neighbors methods are worth further study. It is better to also look at the distribution of accuracy values calculated across cross-validation folds.\n",
    "Also, note that the run time for SVM is higher compared to the other algorithms"
   ]
  },
  {
   "cell_type": "code",
   "execution_count": 14,
   "metadata": {},
   "outputs": [
    {
     "data": {
      "image/png": "[encoded data removed]",
      "text/plain": [
       "<matplotlib.figure.Figure at 0x11d6b4828>"
      ]
     },
     "metadata": {},
     "output_type": "display_data"
    }
   ],
   "source": [
    "fig = plt.figure()\n",
    "fig.suptitle('Performance Comparison')\n",
    "ax = fig.add_subplot(111)\n",
    "plt.boxplot(results)\n",
    "ax.set_xticklabels(names)\n",
    "plt.show()"
   ]
  },
  {
   "cell_type": "markdown",
   "metadata": {},
   "source": [
    "From the visual output, the performance for the KNN and NB algorithms are encouraging, with tight variance. Although the behaviour of Linear SVM is worth noticing that the variance is very large. "
   ]
  },
  {
   "cell_type": "markdown",
   "metadata": {},
   "source": [
    "## Evaluation of algorithm on Standardised Data\n",
    "\n",
    "The performance of the few machine learning algorithm could be improved if a standardised dataset is being used. The improvement is likely for all the models. I will use pipelines that standardize the data and build the\n",
    "model for each fold in the cross-validation test harness. That way we can get a fair estimation\n",
    "of how each model with standardized data might perform on unseen data."
   ]
  },
  {
   "cell_type": "code",
   "execution_count": 15,
   "metadata": {},
   "outputs": [
    {
     "name": "stdout",
     "output_type": "stream",
     "text": [
      "ScaledCART: 0.572500 (0.011655) (run time: 0.245938)\n",
      "ScaledLinearSVM: 0.701500 (0.012698) (run time: 6.478093)\n",
      "ScaledNB: 0.659400 (0.013756) (run time: 0.048999)\n",
      "ScaledKNN: 0.639800 (0.008773) (run time: 1.992475)\n"
     ]
    }
   ],
   "source": [
    "import warnings\n",
    "\n",
    "# Standardize the dataset\n",
    "pipelines = []\n",
    "\n",
    "pipelines.append(('ScaledCART', Pipeline([('Scaler', StandardScaler()),('CART',\n",
    "                                                                        DecisionTreeClassifier())])))\n",
    "pipelines.append(('ScaledLinearSVM', Pipeline([('Scaler', StandardScaler()),('Linear SVM', LinearSVC( ))])))\n",
    "pipelines.append(('ScaledNB', Pipeline([('Scaler', StandardScaler()),('NB',\n",
    "                                                                      GaussianNB())])))\n",
    "pipelines.append(('ScaledKNN', Pipeline([('Scaler', StandardScaler()),('KNN',\n",
    "                                                                       KNeighborsClassifier())])))\n",
    "results = []\n",
    "names = []\n",
    "with warnings.catch_warnings():\n",
    "    warnings.simplefilter(\"ignore\")\n",
    "    kfold = KFold(n_splits=num_folds, random_state=123)\n",
    "    for name, model in pipelines:\n",
    "        start = time.time()\n",
    "        cv_results = cross_val_score(model, X_sample, Y_sample, cv=kfold, scoring='accuracy')\n",
    "        end = time.time()\n",
    "        results.append(cv_results)\n",
    "        names.append(name)\n",
    "        print( \"%s: %f (%f) (run time: %f)\" % (name, cv_results.mean(), cv_results.std(), end-start))"
   ]
  },
  {
   "cell_type": "code",
   "execution_count": 16,
   "metadata": {},
   "outputs": [
    {
     "data": {
      "image/png": "[encoded data removed]",
      "text/plain": [
       "<matplotlib.figure.Figure at 0x11d6b4470>"
      ]
     },
     "metadata": {},
     "output_type": "display_data"
    }
   ],
   "source": [
    "fig = plt.figure()\n",
    "fig.suptitle('Performance Comparison')\n",
    "ax = fig.add_subplot(111)\n",
    "plt.boxplot(results)\n",
    "ax.set_xticklabels(names)\n",
    "plt.show()"
   ]
  },
  {
   "cell_type": "markdown",
   "metadata": {},
   "source": [
    "Using scaled data, the performance of the Linear SVM improved significantly, but the other algorithms either remained roughly the same or deprove. Next, we'll fine tune the performance of Linear SVM by tuning the algorithm"
   ]
  },
  {
   "cell_type": "markdown",
   "metadata": {
    "collapsed": true
   },
   "source": [
    "## Algorithm Tuning\n",
    "\n",
    "We will focus on the Linear SVM for the algorithm tuning. We can tune one key parameter of the SVM algorithm - the value of C. The default C for Linear SVM is 1.0. We will use the grid search method using 10-fold cross-validation with a standardized copy of the sample training dataset. We will try over a combination of C values."
   ]
  },
  {
   "cell_type": "code",
   "execution_count": 17,
   "metadata": {},
   "outputs": [
    {
     "name": "stderr",
     "output_type": "stream",
     "text": [
      "/anaconda/lib/python3.6/site-packages/sklearn/utils/validation.py:429: DataConversionWarning: Data with input dtype int64 was converted to float64 by StandardScaler.\n",
      "  warnings.warn(msg, _DataConversionWarning)\n"
     ]
    },
    {
     "name": "stdout",
     "output_type": "stream",
     "text": [
      "Linear SVC (C=0.100000): 0.701600 (0.012729) (run time: 6.666999)\n",
      "Linear SVC (C=0.500000): 0.701300 (0.012900) (run time: 6.145613)\n",
      "Linear SVC (C=1.000000): 0.701300 (0.012822) (run time: 6.914358)\n",
      "Linear SVC (C=1.500000): 0.701500 (0.012824) (run time: 6.109602)\n",
      "Linear SVC (C=2.000000): 0.701400 (0.013253) (run time: 6.336206)\n"
     ]
    }
   ],
   "source": [
    "scaler = StandardScaler().fit(X_sample)\n",
    "X_sample_train_scaled = scaler.transform(X_sample)\n",
    "c_values = [0.1, 0.5, 1.0, 1.5, 2.0]\n",
    "kfold = KFold(n_splits=num_folds, random_state=123)\n",
    "overall_mean = []\n",
    "overall_std = []\n",
    "\n",
    "with warnings.catch_warnings():\n",
    "    warnings.simplefilter(\"ignore\")\n",
    "    for c_val in c_values:\n",
    "        model = LinearSVC (C=c_val)\n",
    "        start = time.time()\n",
    "        cv_results = cross_val_score(model, X_sample_train_scaled, Y_sample, cv=kfold, scoring='accuracy')\n",
    "        end = time.time()\n",
    "        results.append(cv_results)\n",
    "        names.append(name)\n",
    "        print( \"Linear SVC (C=%f): %f (%f) (run time: %f)\" % (c_val, cv_results.mean(), cv_results.std(), end-start))\n",
    "        overall_mean.append(cv_results.mean())\n",
    "        overall_std.append(cv_results.std())\n"
   ]
  },
  {
   "cell_type": "markdown",
   "metadata": {},
   "source": [
    "From the output, it looks like the different C values for Linear SVC does not affect the outcomes much. It is ok to just stick to the default C=1.0 value."
   ]
  },
  {
   "cell_type": "markdown",
   "metadata": {
    "collapsed": true
   },
   "source": [
    "## Data Preparation for Machine Learning \n",
    "\n",
    "The main data set is now splitted into 2 - Y and X, where Y holds the target variable 'Status'. We will use 70% of the dataset for modeling and training. The remaining 30% of the dataset will be used as a hold-out set to validate the accuracy of the machine learning model. "
   ]
  },
  {
   "cell_type": "code",
   "execution_count": 18,
   "metadata": {
    "collapsed": true
   },
   "outputs": [],
   "source": [
    "# Create arrays for the features and the response variable\n",
    "Y = data['Status'].values\n",
    "X = data.drop('Status', axis=1).values"
   ]
  },
  {
   "cell_type": "code",
   "execution_count": 19,
   "metadata": {
    "collapsed": true
   },
   "outputs": [],
   "source": [
    "# Create training and test sets\n",
    "X_train, X_test, Y_train, Y_test = train_test_split (X, Y, test_size = 0.30, random_state=21)"
   ]
  },
  {
   "cell_type": "markdown",
   "metadata": {},
   "source": [
    "### Application of Linear SVC on data set"
   ]
  },
  {
   "cell_type": "code",
   "execution_count": 20,
   "metadata": {},
   "outputs": [
    {
     "name": "stderr",
     "output_type": "stream",
     "text": [
      "/anaconda/lib/python3.6/site-packages/sklearn/utils/validation.py:429: DataConversionWarning: Data with input dtype int64 was converted to float64 by StandardScaler.\n",
      "  warnings.warn(msg, _DataConversionWarning)\n"
     ]
    },
    {
     "name": "stdout",
     "output_type": "stream",
     "text": [
      "Run Time: 63.298071\n"
     ]
    }
   ],
   "source": [
    "# prepare the model\n",
    "with warnings.catch_warnings():\n",
    "    warnings.simplefilter(\"ignore\")\n",
    "    scaler = StandardScaler().fit(X_train)\n",
    "X_train_scaled = scaler.transform(X_train)\n",
    "model = LinearSVC(C=1.0)\n",
    "start = time.time()\n",
    "model.fit(X_train_scaled, Y_train)\n",
    "end = time.time()\n",
    "print( \"Run Time: %f\" % (end-start))"
   ]
  },
  {
   "cell_type": "code",
   "execution_count": 21,
   "metadata": {},
   "outputs": [
    {
     "name": "stdout",
     "output_type": "stream",
     "text": [
      "Accuracy score 0.696911\n",
      "             precision    recall  f1-score   support\n",
      "\n",
      "          0       0.48      0.00      0.01     27269\n",
      "          1       0.70      1.00      0.82     62731\n",
      "\n",
      "avg / total       0.63      0.70      0.57     90000\n",
      "\n"
     ]
    }
   ],
   "source": [
    "from sklearn.metrics import classification_report\n",
    "from sklearn.metrics import confusion_matrix\n",
    "from sklearn.metrics import accuracy_score\n",
    "\n",
    "# estimate accuracy on test dataset\n",
    "with warnings.catch_warnings():\n",
    "    warnings.simplefilter(\"ignore\")\n",
    "    X_test_scaled = scaler.transform(X_test)\n",
    "predictions = model.predict(X_test_scaled)\n",
    "print(\"Accuracy score %f\" % accuracy_score(Y_test, predictions))\n",
    "print(classification_report(Y_test, predictions))"
   ]
  },
  {
   "cell_type": "code",
   "execution_count": 22,
   "metadata": {},
   "outputs": [
    {
     "name": "stdout",
     "output_type": "stream",
     "text": [
      "  |     0     1 |\n",
      "--+-------------+\n",
      "0 |   <86>27183 |\n",
      "1 |    95<62636>|\n",
      "--+-------------+\n",
      "(row = reference; col = test)\n",
      "\n"
     ]
    }
   ],
   "source": [
    "from nltk import ConfusionMatrix\n",
    "print(ConfusionMatrix(list(Y_test), list(predictions)))"
   ]
  },
  {
   "cell_type": "markdown",
   "metadata": {},
   "source": [
    "From the results above, the accuracy score of 70% is not quite an ideal outcome. From the ConfusionMatrix, the misclassification for '0' (no-show) is glaring. One very possible reason is the lack of classification patterns within the dataset, and there's a bias towards '1' (show). \n",
    "\n",
    "What we can do is to test the dataset using another algorithm, Gaussian Naive Bayes method. For GaussianNB() algorithm, there isn't much tuning to be done. And we will use the original unscaled data"
   ]
  },
  {
   "cell_type": "markdown",
   "metadata": {},
   "source": [
    "### Application of Gausian Naive Bayes algorithm on data set"
   ]
  },
  {
   "cell_type": "code",
   "execution_count": 23,
   "metadata": {},
   "outputs": [
    {
     "name": "stdout",
     "output_type": "stream",
     "text": [
      "Accuracy score 0.628256\n",
      "             precision    recall  f1-score   support\n",
      "\n",
      "          0       0.35      0.26      0.29     27269\n",
      "          1       0.71      0.79      0.75     62731\n",
      "\n",
      "avg / total       0.60      0.63      0.61     90000\n",
      "\n"
     ]
    }
   ],
   "source": [
    "model = GaussianNB()\n",
    "model.fit(X_train, Y_train)\n",
    "predictions = model.predict(X_test_scaled)\n",
    "print(\"Accuracy score %f\" % accuracy_score(Y_test, predictions))\n",
    "print(classification_report(Y_test, predictions))"
   ]
  },
  {
   "cell_type": "code",
   "execution_count": 24,
   "metadata": {},
   "outputs": [
    {
     "name": "stdout",
     "output_type": "stream",
     "text": [
      "  |     0     1 |\n",
      "--+-------------+\n",
      "0 | <6994>20275 |\n",
      "1 | 13182<49549>|\n",
      "--+-------------+\n",
      "(row = reference; col = test)\n",
      "\n"
     ]
    }
   ],
   "source": [
    "print(ConfusionMatrix(list(Y_test), list(predictions)))"
   ]
  },
  {
   "cell_type": "markdown",
   "metadata": {},
   "source": [
    "The accuracy result for GaussianNB() is less than LinearSVC. Although the classification for '0' is better for GaussianNB, the mis-classifications for '1' have increased dramatically."
   ]
  },
  {
   "cell_type": "markdown",
   "metadata": {},
   "source": [
    "## What could be done better\n",
    "\n",
    "The data can be tested over a SVC() instead of LinearSVC() and tested over a range of kernel functions ‘linear’, ‘poly’, ‘rbf’ or ‘sigmoid’. However, the computation of SVC over 300K rows of record with cross validation is very heavy and it takes a very long time for computation to complete on my MacBook Pro 16GB. A GPU system could be a better compute platform to do this."
   ]
  },
  {
   "cell_type": "code",
   "execution_count": null,
   "metadata": {
    "collapsed": true
   },
   "outputs": [],
   "source": []
  }
 ],
 "metadata": {
  "kernelspec": {
   "display_name": "Python 3",
   "language": "python",
   "name": "python3"
  },
  "language_info": {
   "codemirror_mode": {
    "name": "ipython",
    "version": 3
   },
   "file_extension": ".py",
   "mimetype": "text/x-python",
   "name": "python",
   "nbconvert_exporter": "python",
   "pygments_lexer": "ipython3",
   "version": "3.6.1"
  }
 },
 "nbformat": 4,
 "nbformat_minor": 2
}
