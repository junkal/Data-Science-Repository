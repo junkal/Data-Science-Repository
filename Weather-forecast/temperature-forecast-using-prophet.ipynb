{
 "cells": [
  {
   "cell_type": "code",
   "execution_count": 1,
   "metadata": {
    "_cell_guid": "b1076dfc-b9ad-4769-8c92-a6c4dae69d19",
    "_uuid": "8f2839f25d086af736a60e9eeb907d3b93b6e0e5",
    "execution": {
     "iopub.execute_input": "2022-04-26T16:08:58.281855Z",
     "iopub.status.busy": "2022-04-26T16:08:58.280560Z",
     "iopub.status.idle": "2022-04-26T16:08:58.637590Z",
     "shell.execute_reply": "2022-04-26T16:08:58.636602Z",
     "shell.execute_reply.started": "2022-04-26T16:08:58.281802Z"
    }
   },
   "outputs": [],
   "source": [
    "import numpy as np\n",
    "import pandas as pd\n",
    "import matplotlib.pyplot as plt\n",
    "from datetime import datetime\n",
    "from sklearn.metrics import mean_squared_error\n",
    "from fbprophet import Prophet\n",
    "from math import sqrt"
   ]
  },
  {
   "cell_type": "markdown",
   "metadata": {},
   "source": [
    "## Load Data & Exploratory Data Analysis\n",
    "\n",
    "Jena Climate is weather timeseries dataset recorded at the Weather Station of the Max Planck Institute for Biogeochemistry in Jena, Germany. Jena Climate dataset is made up of 14 different quantities (such air temperature, atmospheric pressure, humidity, wind direction, and so on) were recorded every 10 minutes, over several years. This dataset covers data from January 1st 2009 to December 31st 2016."
   ]
  },
  {
   "cell_type": "code",
   "execution_count": 2,
   "metadata": {
    "execution": {
     "iopub.execute_input": "2022-04-26T16:08:58.933888Z",
     "iopub.status.busy": "2022-04-26T16:08:58.933581Z",
     "iopub.status.idle": "2022-04-26T16:09:00.532204Z",
     "shell.execute_reply": "2022-04-26T16:09:00.531299Z",
     "shell.execute_reply.started": "2022-04-26T16:08:58.933855Z"
    }
   },
   "outputs": [
    {
     "data": {
      "text/html": [
       "<div>\n",
       "<style scoped>\n",
       "    .dataframe tbody tr th:only-of-type {\n",
       "        vertical-align: middle;\n",
       "    }\n",
       "\n",
       "    .dataframe tbody tr th {\n",
       "        vertical-align: top;\n",
       "    }\n",
       "\n",
       "    .dataframe thead th {\n",
       "        text-align: right;\n",
       "    }\n",
       "</style>\n",
       "<table border=\"1\" class=\"dataframe\">\n",
       "  <thead>\n",
       "    <tr style=\"text-align: right;\">\n",
       "      <th></th>\n",
       "      <th>Date Time</th>\n",
       "      <th>p (mbar)</th>\n",
       "      <th>T (degC)</th>\n",
       "      <th>Tpot (K)</th>\n",
       "      <th>Tdew (degC)</th>\n",
       "      <th>rh (%)</th>\n",
       "      <th>VPmax (mbar)</th>\n",
       "      <th>VPact (mbar)</th>\n",
       "      <th>VPdef (mbar)</th>\n",
       "      <th>sh (g/kg)</th>\n",
       "      <th>H2OC (mmol/mol)</th>\n",
       "      <th>rho (g/m**3)</th>\n",
       "      <th>wv (m/s)</th>\n",
       "      <th>max. wv (m/s)</th>\n",
       "      <th>wd (deg)</th>\n",
       "    </tr>\n",
       "  </thead>\n",
       "  <tbody>\n",
       "    <tr>\n",
       "      <th>0</th>\n",
       "      <td>01.01.2009 00:10:00</td>\n",
       "      <td>996.52</td>\n",
       "      <td>-8.02</td>\n",
       "      <td>265.40</td>\n",
       "      <td>-8.90</td>\n",
       "      <td>93.3</td>\n",
       "      <td>3.33</td>\n",
       "      <td>3.11</td>\n",
       "      <td>0.22</td>\n",
       "      <td>1.94</td>\n",
       "      <td>3.12</td>\n",
       "      <td>1307.75</td>\n",
       "      <td>1.03</td>\n",
       "      <td>1.75</td>\n",
       "      <td>152.3</td>\n",
       "    </tr>\n",
       "    <tr>\n",
       "      <th>1</th>\n",
       "      <td>01.01.2009 00:20:00</td>\n",
       "      <td>996.57</td>\n",
       "      <td>-8.41</td>\n",
       "      <td>265.01</td>\n",
       "      <td>-9.28</td>\n",
       "      <td>93.4</td>\n",
       "      <td>3.23</td>\n",
       "      <td>3.02</td>\n",
       "      <td>0.21</td>\n",
       "      <td>1.89</td>\n",
       "      <td>3.03</td>\n",
       "      <td>1309.80</td>\n",
       "      <td>0.72</td>\n",
       "      <td>1.50</td>\n",
       "      <td>136.1</td>\n",
       "    </tr>\n",
       "    <tr>\n",
       "      <th>2</th>\n",
       "      <td>01.01.2009 00:30:00</td>\n",
       "      <td>996.53</td>\n",
       "      <td>-8.51</td>\n",
       "      <td>264.91</td>\n",
       "      <td>-9.31</td>\n",
       "      <td>93.9</td>\n",
       "      <td>3.21</td>\n",
       "      <td>3.01</td>\n",
       "      <td>0.20</td>\n",
       "      <td>1.88</td>\n",
       "      <td>3.02</td>\n",
       "      <td>1310.24</td>\n",
       "      <td>0.19</td>\n",
       "      <td>0.63</td>\n",
       "      <td>171.6</td>\n",
       "    </tr>\n",
       "    <tr>\n",
       "      <th>3</th>\n",
       "      <td>01.01.2009 00:40:00</td>\n",
       "      <td>996.51</td>\n",
       "      <td>-8.31</td>\n",
       "      <td>265.12</td>\n",
       "      <td>-9.07</td>\n",
       "      <td>94.2</td>\n",
       "      <td>3.26</td>\n",
       "      <td>3.07</td>\n",
       "      <td>0.19</td>\n",
       "      <td>1.92</td>\n",
       "      <td>3.08</td>\n",
       "      <td>1309.19</td>\n",
       "      <td>0.34</td>\n",
       "      <td>0.50</td>\n",
       "      <td>198.0</td>\n",
       "    </tr>\n",
       "    <tr>\n",
       "      <th>4</th>\n",
       "      <td>01.01.2009 00:50:00</td>\n",
       "      <td>996.51</td>\n",
       "      <td>-8.27</td>\n",
       "      <td>265.15</td>\n",
       "      <td>-9.04</td>\n",
       "      <td>94.1</td>\n",
       "      <td>3.27</td>\n",
       "      <td>3.08</td>\n",
       "      <td>0.19</td>\n",
       "      <td>1.92</td>\n",
       "      <td>3.09</td>\n",
       "      <td>1309.00</td>\n",
       "      <td>0.32</td>\n",
       "      <td>0.63</td>\n",
       "      <td>214.3</td>\n",
       "    </tr>\n",
       "  </tbody>\n",
       "</table>\n",
       "</div>"
      ],
      "text/plain": [
       "             Date Time  p (mbar)  T (degC)  Tpot (K)  Tdew (degC)  rh (%)  \\\n",
       "0  01.01.2009 00:10:00    996.52     -8.02    265.40        -8.90    93.3   \n",
       "1  01.01.2009 00:20:00    996.57     -8.41    265.01        -9.28    93.4   \n",
       "2  01.01.2009 00:30:00    996.53     -8.51    264.91        -9.31    93.9   \n",
       "3  01.01.2009 00:40:00    996.51     -8.31    265.12        -9.07    94.2   \n",
       "4  01.01.2009 00:50:00    996.51     -8.27    265.15        -9.04    94.1   \n",
       "\n",
       "   VPmax (mbar)  VPact (mbar)  VPdef (mbar)  sh (g/kg)  H2OC (mmol/mol)  \\\n",
       "0          3.33          3.11          0.22       1.94             3.12   \n",
       "1          3.23          3.02          0.21       1.89             3.03   \n",
       "2          3.21          3.01          0.20       1.88             3.02   \n",
       "3          3.26          3.07          0.19       1.92             3.08   \n",
       "4          3.27          3.08          0.19       1.92             3.09   \n",
       "\n",
       "   rho (g/m**3)  wv (m/s)  max. wv (m/s)  wd (deg)  \n",
       "0       1307.75      1.03           1.75     152.3  \n",
       "1       1309.80      0.72           1.50     136.1  \n",
       "2       1310.24      0.19           0.63     171.6  \n",
       "3       1309.19      0.34           0.50     198.0  \n",
       "4       1309.00      0.32           0.63     214.3  "
      ]
     },
     "execution_count": 2,
     "metadata": {},
     "output_type": "execute_result"
    }
   ],
   "source": [
    "raw_data = pd.read_csv(\"jena_climate_2009_2016.csv\")\n",
    "raw_data.head(5)"
   ]
  },
  {
   "cell_type": "code",
   "execution_count": 3,
   "metadata": {
    "execution": {
     "iopub.execute_input": "2022-04-26T16:09:00.533866Z",
     "iopub.status.busy": "2022-04-26T16:09:00.533637Z",
     "iopub.status.idle": "2022-04-26T16:09:00.538577Z",
     "shell.execute_reply": "2022-04-26T16:09:00.537627Z",
     "shell.execute_reply.started": "2022-04-26T16:09:00.533836Z"
    }
   },
   "outputs": [
    {
     "name": "stdout",
     "output_type": "stream",
     "text": [
      "(420551, 15)\n"
     ]
    }
   ],
   "source": [
    "print(raw_data.shape)"
   ]
  },
  {
   "cell_type": "code",
   "execution_count": 4,
   "metadata": {
    "execution": {
     "iopub.execute_input": "2022-04-26T16:09:00.540231Z",
     "iopub.status.busy": "2022-04-26T16:09:00.539952Z",
     "iopub.status.idle": "2022-04-26T16:09:00.629562Z",
     "shell.execute_reply": "2022-04-26T16:09:00.628463Z",
     "shell.execute_reply.started": "2022-04-26T16:09:00.540165Z"
    }
   },
   "outputs": [
    {
     "name": "stdout",
     "output_type": "stream",
     "text": [
      "<class 'pandas.core.frame.DataFrame'>\n",
      "RangeIndex: 420551 entries, 0 to 420550\n",
      "Data columns (total 15 columns):\n",
      " #   Column           Non-Null Count   Dtype  \n",
      "---  ------           --------------   -----  \n",
      " 0   Date Time        420551 non-null  object \n",
      " 1   p (mbar)         420551 non-null  float64\n",
      " 2   T (degC)         420551 non-null  float64\n",
      " 3   Tpot (K)         420551 non-null  float64\n",
      " 4   Tdew (degC)      420551 non-null  float64\n",
      " 5   rh (%)           420551 non-null  float64\n",
      " 6   VPmax (mbar)     420551 non-null  float64\n",
      " 7   VPact (mbar)     420551 non-null  float64\n",
      " 8   VPdef (mbar)     420551 non-null  float64\n",
      " 9   sh (g/kg)        420551 non-null  float64\n",
      " 10  H2OC (mmol/mol)  420551 non-null  float64\n",
      " 11  rho (g/m**3)     420551 non-null  float64\n",
      " 12  wv (m/s)         420551 non-null  float64\n",
      " 13  max. wv (m/s)    420551 non-null  float64\n",
      " 14  wd (deg)         420551 non-null  float64\n",
      "dtypes: float64(14), object(1)\n",
      "memory usage: 48.1+ MB\n"
     ]
    }
   ],
   "source": [
    "raw_data.info()"
   ]
  },
  {
   "cell_type": "code",
   "execution_count": 5,
   "metadata": {
    "execution": {
     "iopub.execute_input": "2022-04-26T16:09:00.631687Z",
     "iopub.status.busy": "2022-04-26T16:09:00.631394Z",
     "iopub.status.idle": "2022-04-26T16:09:02.961560Z",
     "shell.execute_reply": "2022-04-26T16:09:02.960546Z",
     "shell.execute_reply.started": "2022-04-26T16:09:00.631655Z"
    }
   },
   "outputs": [
    {
     "data": {
      "text/html": [
       "<div>\n",
       "<style scoped>\n",
       "    .dataframe tbody tr th:only-of-type {\n",
       "        vertical-align: middle;\n",
       "    }\n",
       "\n",
       "    .dataframe tbody tr th {\n",
       "        vertical-align: top;\n",
       "    }\n",
       "\n",
       "    .dataframe thead th {\n",
       "        text-align: right;\n",
       "    }\n",
       "</style>\n",
       "<table border=\"1\" class=\"dataframe\">\n",
       "  <thead>\n",
       "    <tr style=\"text-align: right;\">\n",
       "      <th></th>\n",
       "      <th>p (mbar)</th>\n",
       "      <th>T (degC)</th>\n",
       "      <th>Tpot (K)</th>\n",
       "      <th>Tdew (degC)</th>\n",
       "      <th>rh (%)</th>\n",
       "      <th>VPmax (mbar)</th>\n",
       "      <th>VPact (mbar)</th>\n",
       "      <th>VPdef (mbar)</th>\n",
       "      <th>sh (g/kg)</th>\n",
       "      <th>H2OC (mmol/mol)</th>\n",
       "      <th>rho (g/m**3)</th>\n",
       "      <th>wv (m/s)</th>\n",
       "      <th>max. wv (m/s)</th>\n",
       "      <th>wd (deg)</th>\n",
       "      <th>Datetime</th>\n",
       "    </tr>\n",
       "  </thead>\n",
       "  <tbody>\n",
       "    <tr>\n",
       "      <th>0</th>\n",
       "      <td>996.52</td>\n",
       "      <td>-8.02</td>\n",
       "      <td>265.40</td>\n",
       "      <td>-8.90</td>\n",
       "      <td>93.3</td>\n",
       "      <td>3.33</td>\n",
       "      <td>3.11</td>\n",
       "      <td>0.22</td>\n",
       "      <td>1.94</td>\n",
       "      <td>3.12</td>\n",
       "      <td>1307.75</td>\n",
       "      <td>1.03</td>\n",
       "      <td>1.75</td>\n",
       "      <td>152.3</td>\n",
       "      <td>2009-01-01 00:10:00</td>\n",
       "    </tr>\n",
       "    <tr>\n",
       "      <th>1</th>\n",
       "      <td>996.57</td>\n",
       "      <td>-8.41</td>\n",
       "      <td>265.01</td>\n",
       "      <td>-9.28</td>\n",
       "      <td>93.4</td>\n",
       "      <td>3.23</td>\n",
       "      <td>3.02</td>\n",
       "      <td>0.21</td>\n",
       "      <td>1.89</td>\n",
       "      <td>3.03</td>\n",
       "      <td>1309.80</td>\n",
       "      <td>0.72</td>\n",
       "      <td>1.50</td>\n",
       "      <td>136.1</td>\n",
       "      <td>2009-01-01 00:20:00</td>\n",
       "    </tr>\n",
       "    <tr>\n",
       "      <th>2</th>\n",
       "      <td>996.53</td>\n",
       "      <td>-8.51</td>\n",
       "      <td>264.91</td>\n",
       "      <td>-9.31</td>\n",
       "      <td>93.9</td>\n",
       "      <td>3.21</td>\n",
       "      <td>3.01</td>\n",
       "      <td>0.20</td>\n",
       "      <td>1.88</td>\n",
       "      <td>3.02</td>\n",
       "      <td>1310.24</td>\n",
       "      <td>0.19</td>\n",
       "      <td>0.63</td>\n",
       "      <td>171.6</td>\n",
       "      <td>2009-01-01 00:30:00</td>\n",
       "    </tr>\n",
       "    <tr>\n",
       "      <th>3</th>\n",
       "      <td>996.51</td>\n",
       "      <td>-8.31</td>\n",
       "      <td>265.12</td>\n",
       "      <td>-9.07</td>\n",
       "      <td>94.2</td>\n",
       "      <td>3.26</td>\n",
       "      <td>3.07</td>\n",
       "      <td>0.19</td>\n",
       "      <td>1.92</td>\n",
       "      <td>3.08</td>\n",
       "      <td>1309.19</td>\n",
       "      <td>0.34</td>\n",
       "      <td>0.50</td>\n",
       "      <td>198.0</td>\n",
       "      <td>2009-01-01 00:40:00</td>\n",
       "    </tr>\n",
       "    <tr>\n",
       "      <th>4</th>\n",
       "      <td>996.51</td>\n",
       "      <td>-8.27</td>\n",
       "      <td>265.15</td>\n",
       "      <td>-9.04</td>\n",
       "      <td>94.1</td>\n",
       "      <td>3.27</td>\n",
       "      <td>3.08</td>\n",
       "      <td>0.19</td>\n",
       "      <td>1.92</td>\n",
       "      <td>3.09</td>\n",
       "      <td>1309.00</td>\n",
       "      <td>0.32</td>\n",
       "      <td>0.63</td>\n",
       "      <td>214.3</td>\n",
       "      <td>2009-01-01 00:50:00</td>\n",
       "    </tr>\n",
       "  </tbody>\n",
       "</table>\n",
       "</div>"
      ],
      "text/plain": [
       "   p (mbar)  T (degC)  Tpot (K)  Tdew (degC)  rh (%)  VPmax (mbar)  \\\n",
       "0    996.52     -8.02    265.40        -8.90    93.3          3.33   \n",
       "1    996.57     -8.41    265.01        -9.28    93.4          3.23   \n",
       "2    996.53     -8.51    264.91        -9.31    93.9          3.21   \n",
       "3    996.51     -8.31    265.12        -9.07    94.2          3.26   \n",
       "4    996.51     -8.27    265.15        -9.04    94.1          3.27   \n",
       "\n",
       "   VPact (mbar)  VPdef (mbar)  sh (g/kg)  H2OC (mmol/mol)  rho (g/m**3)  \\\n",
       "0          3.11          0.22       1.94             3.12       1307.75   \n",
       "1          3.02          0.21       1.89             3.03       1309.80   \n",
       "2          3.01          0.20       1.88             3.02       1310.24   \n",
       "3          3.07          0.19       1.92             3.08       1309.19   \n",
       "4          3.08          0.19       1.92             3.09       1309.00   \n",
       "\n",
       "   wv (m/s)  max. wv (m/s)  wd (deg)            Datetime  \n",
       "0      1.03           1.75     152.3 2009-01-01 00:10:00  \n",
       "1      0.72           1.50     136.1 2009-01-01 00:20:00  \n",
       "2      0.19           0.63     171.6 2009-01-01 00:30:00  \n",
       "3      0.34           0.50     198.0 2009-01-01 00:40:00  \n",
       "4      0.32           0.63     214.3 2009-01-01 00:50:00  "
      ]
     },
     "execution_count": 5,
     "metadata": {},
     "output_type": "execute_result"
    }
   ],
   "source": [
    "raw_data['Datetime'] = pd.to_datetime(raw_data['Date Time'], format=\"%d.%m.%Y %H:%M:%S\")\n",
    "raw_data = raw_data.drop(['Date Time'], axis=1)\n",
    "raw_data.head(5)"
   ]
  },
  {
   "cell_type": "markdown",
   "metadata": {},
   "source": [
    "## Data Preparation\n",
    "\n",
    "I will be train a Prophet model on this data. The data preparation steps cover:\n",
    "* Normalisation\n",
    "* Renaming the columns to ds and y, which are the required names by Prophet\n",
    "* Segmenting the train/test data using date range\n",
    "* Convert the data set from every 10 mins to every 1 hour\n",
    "\n",
    "### Data Normalisation"
   ]
  },
  {
   "cell_type": "code",
   "execution_count": 6,
   "metadata": {
    "execution": {
     "iopub.execute_input": "2022-04-26T16:09:02.963216Z",
     "iopub.status.busy": "2022-04-26T16:09:02.962994Z",
     "iopub.status.idle": "2022-04-26T16:09:03.053673Z",
     "shell.execute_reply": "2022-04-26T16:09:03.052321Z",
     "shell.execute_reply.started": "2022-04-26T16:09:02.963189Z"
    }
   },
   "outputs": [],
   "source": [
    "from sklearn import preprocessing\n",
    "\n",
    "temp = raw_data.drop([\"Datetime\"], axis=1)\n",
    "min_max_scaler = preprocessing.MinMaxScaler()\n",
    "x_scaled = min_max_scaler.fit_transform(temp.values)\n",
    "normalise_temperature = x_scaled[:,1]"
   ]
  },
  {
   "cell_type": "code",
   "execution_count": 7,
   "metadata": {
    "execution": {
     "iopub.execute_input": "2022-04-26T16:09:03.057394Z",
     "iopub.status.busy": "2022-04-26T16:09:03.055977Z",
     "iopub.status.idle": "2022-04-26T16:09:03.074514Z",
     "shell.execute_reply": "2022-04-26T16:09:03.073644Z",
     "shell.execute_reply.started": "2022-04-26T16:09:03.057347Z"
    }
   },
   "outputs": [
    {
     "data": {
      "text/html": [
       "<div>\n",
       "<style scoped>\n",
       "    .dataframe tbody tr th:only-of-type {\n",
       "        vertical-align: middle;\n",
       "    }\n",
       "\n",
       "    .dataframe tbody tr th {\n",
       "        vertical-align: top;\n",
       "    }\n",
       "\n",
       "    .dataframe thead th {\n",
       "        text-align: right;\n",
       "    }\n",
       "</style>\n",
       "<table border=\"1\" class=\"dataframe\">\n",
       "  <thead>\n",
       "    <tr style=\"text-align: right;\">\n",
       "      <th></th>\n",
       "      <th>ds</th>\n",
       "      <th>y</th>\n",
       "    </tr>\n",
       "  </thead>\n",
       "  <tbody>\n",
       "    <tr>\n",
       "      <th>0</th>\n",
       "      <td>2009-01-01 00:10:00</td>\n",
       "      <td>0.248632</td>\n",
       "    </tr>\n",
       "    <tr>\n",
       "      <th>1</th>\n",
       "      <td>2009-01-01 00:20:00</td>\n",
       "      <td>0.242163</td>\n",
       "    </tr>\n",
       "    <tr>\n",
       "      <th>2</th>\n",
       "      <td>2009-01-01 00:30:00</td>\n",
       "      <td>0.240504</td>\n",
       "    </tr>\n",
       "    <tr>\n",
       "      <th>3</th>\n",
       "      <td>2009-01-01 00:40:00</td>\n",
       "      <td>0.243822</td>\n",
       "    </tr>\n",
       "    <tr>\n",
       "      <th>4</th>\n",
       "      <td>2009-01-01 00:50:00</td>\n",
       "      <td>0.244485</td>\n",
       "    </tr>\n",
       "    <tr>\n",
       "      <th>5</th>\n",
       "      <td>2009-01-01 01:00:00</td>\n",
       "      <td>0.248134</td>\n",
       "    </tr>\n",
       "    <tr>\n",
       "      <th>6</th>\n",
       "      <td>2009-01-01 01:10:00</td>\n",
       "      <td>0.255266</td>\n",
       "    </tr>\n",
       "    <tr>\n",
       "      <th>7</th>\n",
       "      <td>2009-01-01 01:20:00</td>\n",
       "      <td>0.255266</td>\n",
       "    </tr>\n",
       "    <tr>\n",
       "      <th>8</th>\n",
       "      <td>2009-01-01 01:30:00</td>\n",
       "      <td>0.250456</td>\n",
       "    </tr>\n",
       "    <tr>\n",
       "      <th>9</th>\n",
       "      <td>2009-01-01 01:40:00</td>\n",
       "      <td>0.241831</td>\n",
       "    </tr>\n",
       "  </tbody>\n",
       "</table>\n",
       "</div>"
      ],
      "text/plain": [
       "                   ds         y\n",
       "0 2009-01-01 00:10:00  0.248632\n",
       "1 2009-01-01 00:20:00  0.242163\n",
       "2 2009-01-01 00:30:00  0.240504\n",
       "3 2009-01-01 00:40:00  0.243822\n",
       "4 2009-01-01 00:50:00  0.244485\n",
       "5 2009-01-01 01:00:00  0.248134\n",
       "6 2009-01-01 01:10:00  0.255266\n",
       "7 2009-01-01 01:20:00  0.255266\n",
       "8 2009-01-01 01:30:00  0.250456\n",
       "9 2009-01-01 01:40:00  0.241831"
      ]
     },
     "execution_count": 7,
     "metadata": {},
     "output_type": "execute_result"
    }
   ],
   "source": [
    "data = pd.DataFrame(raw_data[\"Datetime\"])\n",
    "data.rename({'Datetime': 'ds'}, axis=1, inplace=True)\n",
    "data['y'] = normalise_temperature\n",
    "data.head(10)"
   ]
  },
  {
   "cell_type": "code",
   "execution_count": 8,
   "metadata": {
    "execution": {
     "iopub.execute_input": "2022-04-26T16:09:03.076178Z",
     "iopub.status.busy": "2022-04-26T16:09:03.075868Z",
     "iopub.status.idle": "2022-04-26T16:09:03.650323Z",
     "shell.execute_reply": "2022-04-26T16:09:03.649500Z",
     "shell.execute_reply.started": "2022-04-26T16:09:03.076138Z"
    }
   },
   "outputs": [
    {
     "data": {
      "text/plain": [
       "[<matplotlib.lines.Line2D at 0x7fdbcbd78f50>]"
      ]
     },
     "execution_count": 8,
     "metadata": {},
     "output_type": "execute_result"
    },
    {
     "data": {
      "image/png": "[encoded data removed]",
      "text/plain": [
       "<Figure size 1152x576 with 1 Axes>"
      ]
     },
     "metadata": {
      "needs_background": "light"
     },
     "output_type": "display_data"
    }
   ],
   "source": [
    "plt.figure(figsize=(16,8))\n",
    "plt.plot(range(len(data)), data[\"y\"])"
   ]
  },
  {
   "cell_type": "code",
   "execution_count": 9,
   "metadata": {
    "execution": {
     "iopub.execute_input": "2022-04-26T16:09:03.651980Z",
     "iopub.status.busy": "2022-04-26T16:09:03.651769Z",
     "iopub.status.idle": "2022-04-26T16:09:03.674615Z",
     "shell.execute_reply": "2022-04-26T16:09:03.673653Z",
     "shell.execute_reply.started": "2022-04-26T16:09:03.651955Z"
    }
   },
   "outputs": [
    {
     "data": {
      "text/plain": [
       "DatetimeIndex(['2009-01-01 00:00:00', '2009-01-01 00:10:00',\n",
       "               '2009-01-01 00:20:00', '2009-01-01 00:30:00',\n",
       "               '2009-01-01 00:40:00', '2009-01-01 00:50:00',\n",
       "               '2009-01-01 01:00:00', '2009-01-01 01:10:00',\n",
       "               '2009-01-01 01:20:00', '2009-01-01 01:30:00',\n",
       "               ...\n",
       "               '2016-12-30 10:10:00', '2016-12-30 10:20:00',\n",
       "               '2016-12-30 10:30:00', '2016-12-30 10:40:00',\n",
       "               '2016-12-30 10:50:00', '2016-12-30 11:00:00',\n",
       "               '2016-12-30 11:10:00', '2016-12-30 11:20:00',\n",
       "               '2016-12-30 11:30:00', '2016-12-30 11:40:00'],\n",
       "              dtype='datetime64[ns]', length=420551, freq='10T')"
      ]
     },
     "execution_count": 9,
     "metadata": {},
     "output_type": "execute_result"
    }
   ],
   "source": [
    "date_range = pd.date_range(start='1/1/2009', end='1/1/2017', freq='10T')\n",
    "date_range[0:420551]"
   ]
  },
  {
   "cell_type": "code",
   "execution_count": 10,
   "metadata": {
    "execution": {
     "iopub.execute_input": "2022-04-26T16:09:03.676542Z",
     "iopub.status.busy": "2022-04-26T16:09:03.676266Z",
     "iopub.status.idle": "2022-04-26T16:09:03.689493Z",
     "shell.execute_reply": "2022-04-26T16:09:03.688887Z",
     "shell.execute_reply.started": "2022-04-26T16:09:03.676510Z"
    }
   },
   "outputs": [
    {
     "data": {
      "text/html": [
       "<div>\n",
       "<style scoped>\n",
       "    .dataframe tbody tr th:only-of-type {\n",
       "        vertical-align: middle;\n",
       "    }\n",
       "\n",
       "    .dataframe tbody tr th {\n",
       "        vertical-align: top;\n",
       "    }\n",
       "\n",
       "    .dataframe thead th {\n",
       "        text-align: right;\n",
       "    }\n",
       "</style>\n",
       "<table border=\"1\" class=\"dataframe\">\n",
       "  <thead>\n",
       "    <tr style=\"text-align: right;\">\n",
       "      <th></th>\n",
       "      <th>ds</th>\n",
       "      <th>y</th>\n",
       "    </tr>\n",
       "  </thead>\n",
       "  <tbody>\n",
       "    <tr>\n",
       "      <th>0</th>\n",
       "      <td>2009-01-01 00:00:00</td>\n",
       "      <td>0.248632</td>\n",
       "    </tr>\n",
       "    <tr>\n",
       "      <th>1</th>\n",
       "      <td>2009-01-01 00:10:00</td>\n",
       "      <td>0.242163</td>\n",
       "    </tr>\n",
       "    <tr>\n",
       "      <th>2</th>\n",
       "      <td>2009-01-01 00:20:00</td>\n",
       "      <td>0.240504</td>\n",
       "    </tr>\n",
       "    <tr>\n",
       "      <th>3</th>\n",
       "      <td>2009-01-01 00:30:00</td>\n",
       "      <td>0.243822</td>\n",
       "    </tr>\n",
       "    <tr>\n",
       "      <th>4</th>\n",
       "      <td>2009-01-01 00:40:00</td>\n",
       "      <td>0.244485</td>\n",
       "    </tr>\n",
       "  </tbody>\n",
       "</table>\n",
       "</div>"
      ],
      "text/plain": [
       "                   ds         y\n",
       "0 2009-01-01 00:00:00  0.248632\n",
       "1 2009-01-01 00:10:00  0.242163\n",
       "2 2009-01-01 00:20:00  0.240504\n",
       "3 2009-01-01 00:30:00  0.243822\n",
       "4 2009-01-01 00:40:00  0.244485"
      ]
     },
     "execution_count": 10,
     "metadata": {},
     "output_type": "execute_result"
    }
   ],
   "source": [
    "data_prophet = pd.DataFrame({'ds': date_range[0:420551], 'y': data['y']})\n",
    "data_prophet.head(5)"
   ]
  },
  {
   "cell_type": "markdown",
   "metadata": {},
   "source": [
    "Convert the data set from every 10 mins to every 1 hour, then prepare the train and test data"
   ]
  },
  {
   "cell_type": "code",
   "execution_count": 11,
   "metadata": {
    "execution": {
     "iopub.execute_input": "2022-04-26T16:09:05.871513Z",
     "iopub.status.busy": "2022-04-26T16:09:05.870921Z",
     "iopub.status.idle": "2022-04-26T16:09:05.879250Z",
     "shell.execute_reply": "2022-04-26T16:09:05.878160Z",
     "shell.execute_reply.started": "2022-04-26T16:09:05.871450Z"
    }
   },
   "outputs": [
    {
     "name": "stdout",
     "output_type": "stream",
     "text": [
      "(420551, 2)\n",
      "(70092, 2)\n"
     ]
    }
   ],
   "source": [
    "print(data_prophet.shape)\n",
    "data_prophet = data_prophet.iloc[::6, :]\n",
    "print(data_prophet.shape)"
   ]
  },
  {
   "cell_type": "code",
   "execution_count": 12,
   "metadata": {
    "execution": {
     "iopub.execute_input": "2022-04-26T16:09:06.654797Z",
     "iopub.status.busy": "2022-04-26T16:09:06.654499Z",
     "iopub.status.idle": "2022-04-26T16:09:06.666467Z",
     "shell.execute_reply": "2022-04-26T16:09:06.665567Z",
     "shell.execute_reply.started": "2022-04-26T16:09:06.654767Z"
    }
   },
   "outputs": [
    {
     "name": "stdout",
     "output_type": "stream",
     "text": [
      "(50000, 2)\n"
     ]
    },
    {
     "data": {
      "text/html": [
       "<div>\n",
       "<style scoped>\n",
       "    .dataframe tbody tr th:only-of-type {\n",
       "        vertical-align: middle;\n",
       "    }\n",
       "\n",
       "    .dataframe tbody tr th {\n",
       "        vertical-align: top;\n",
       "    }\n",
       "\n",
       "    .dataframe thead th {\n",
       "        text-align: right;\n",
       "    }\n",
       "</style>\n",
       "<table border=\"1\" class=\"dataframe\">\n",
       "  <thead>\n",
       "    <tr style=\"text-align: right;\">\n",
       "      <th></th>\n",
       "      <th>ds</th>\n",
       "      <th>y</th>\n",
       "    </tr>\n",
       "  </thead>\n",
       "  <tbody>\n",
       "    <tr>\n",
       "      <th>0</th>\n",
       "      <td>2009-01-01 00:00:00</td>\n",
       "      <td>0.248632</td>\n",
       "    </tr>\n",
       "    <tr>\n",
       "      <th>6</th>\n",
       "      <td>2009-01-01 01:00:00</td>\n",
       "      <td>0.255266</td>\n",
       "    </tr>\n",
       "    <tr>\n",
       "      <th>12</th>\n",
       "      <td>2009-01-01 02:00:00</td>\n",
       "      <td>0.234865</td>\n",
       "    </tr>\n",
       "    <tr>\n",
       "      <th>18</th>\n",
       "      <td>2009-01-01 03:00:00</td>\n",
       "      <td>0.235031</td>\n",
       "    </tr>\n",
       "    <tr>\n",
       "      <th>24</th>\n",
       "      <td>2009-01-01 04:00:00</td>\n",
       "      <td>0.228562</td>\n",
       "    </tr>\n",
       "  </tbody>\n",
       "</table>\n",
       "</div>"
      ],
      "text/plain": [
       "                    ds         y\n",
       "0  2009-01-01 00:00:00  0.248632\n",
       "6  2009-01-01 01:00:00  0.255266\n",
       "12 2009-01-01 02:00:00  0.234865\n",
       "18 2009-01-01 03:00:00  0.235031\n",
       "24 2009-01-01 04:00:00  0.228562"
      ]
     },
     "execution_count": 12,
     "metadata": {},
     "output_type": "execute_result"
    }
   ],
   "source": [
    "train_prophet = data_prophet.iloc[0:50000]\n",
    "print(train_prophet.shape)\n",
    "train_prophet.head()"
   ]
  },
  {
   "cell_type": "code",
   "execution_count": 13,
   "metadata": {
    "execution": {
     "iopub.execute_input": "2022-04-26T16:09:07.749506Z",
     "iopub.status.busy": "2022-04-26T16:09:07.749189Z",
     "iopub.status.idle": "2022-04-26T16:09:07.761382Z",
     "shell.execute_reply": "2022-04-26T16:09:07.760435Z",
     "shell.execute_reply.started": "2022-04-26T16:09:07.749462Z"
    }
   },
   "outputs": [
    {
     "name": "stdout",
     "output_type": "stream",
     "text": [
      "(20091, 2)\n"
     ]
    },
    {
     "data": {
      "text/html": [
       "<div>\n",
       "<style scoped>\n",
       "    .dataframe tbody tr th:only-of-type {\n",
       "        vertical-align: middle;\n",
       "    }\n",
       "\n",
       "    .dataframe tbody tr th {\n",
       "        vertical-align: top;\n",
       "    }\n",
       "\n",
       "    .dataframe thead th {\n",
       "        text-align: right;\n",
       "    }\n",
       "</style>\n",
       "<table border=\"1\" class=\"dataframe\">\n",
       "  <thead>\n",
       "    <tr style=\"text-align: right;\">\n",
       "      <th></th>\n",
       "      <th>ds</th>\n",
       "      <th>y</th>\n",
       "    </tr>\n",
       "  </thead>\n",
       "  <tbody>\n",
       "    <tr>\n",
       "      <th>300006</th>\n",
       "      <td>2014-09-15 09:00:00</td>\n",
       "      <td>0.625974</td>\n",
       "    </tr>\n",
       "    <tr>\n",
       "      <th>300012</th>\n",
       "      <td>2014-09-15 10:00:00</td>\n",
       "      <td>0.623818</td>\n",
       "    </tr>\n",
       "    <tr>\n",
       "      <th>300018</th>\n",
       "      <td>2014-09-15 11:00:00</td>\n",
       "      <td>0.620833</td>\n",
       "    </tr>\n",
       "    <tr>\n",
       "      <th>300024</th>\n",
       "      <td>2014-09-15 12:00:00</td>\n",
       "      <td>0.620501</td>\n",
       "    </tr>\n",
       "    <tr>\n",
       "      <th>300030</th>\n",
       "      <td>2014-09-15 13:00:00</td>\n",
       "      <td>0.616686</td>\n",
       "    </tr>\n",
       "  </tbody>\n",
       "</table>\n",
       "</div>"
      ],
      "text/plain": [
       "                        ds         y\n",
       "300006 2014-09-15 09:00:00  0.625974\n",
       "300012 2014-09-15 10:00:00  0.623818\n",
       "300018 2014-09-15 11:00:00  0.620833\n",
       "300024 2014-09-15 12:00:00  0.620501\n",
       "300030 2014-09-15 13:00:00  0.616686"
      ]
     },
     "execution_count": 13,
     "metadata": {},
     "output_type": "execute_result"
    }
   ],
   "source": [
    "test_prophet = data_prophet.iloc[50001:]\n",
    "print(test_prophet.shape)\n",
    "test_prophet.head()"
   ]
  },
  {
   "cell_type": "markdown",
   "metadata": {},
   "source": [
    "## Hyperparameter Tuning on univariate prophet model\n",
    "\n",
    "There are a few parameters in the Prophet model, many of which comes with default values. To know which is the best values for the parameters, I define a param_grid of all the parameters and values we want to loop through, and then calculated the mean value of the performance matrix. I then get the best parameter combination in terms of RMSE. The outputs of the model parameters and the RMSE will be saved into a csv file."
   ]
  },
  {
   "cell_type": "code",
   "execution_count": null,
   "metadata": {
    "execution": {
     "iopub.execute_input": "2022-04-24T11:01:28.225185Z",
     "iopub.status.busy": "2022-04-24T11:01:28.224785Z",
     "iopub.status.idle": "2022-04-24T11:01:29.472163Z",
     "shell.execute_reply": "2022-04-24T11:01:29.471169Z",
     "shell.execute_reply.started": "2022-04-24T11:01:28.225084Z"
    }
   },
   "outputs": [],
   "source": [
    "from sklearn.model_selection import ParameterGrid\n",
    "\n",
    "param_grid = {\n",
    "    'changepoint_prior_scale': [0.005, 0.05, 0.5, 5],\n",
    "    'seasonality_prior_scale':[0.01, 0.1, 1, 10.0],\n",
    "    'changepoint_range': [0.8, 0.9]\n",
    "              }\n",
    "# param_grid = {  \n",
    "#                 'changepoint_prior_scale': [0.005, 0.05, 0.5, 5],\n",
    "#                 'changepoint_range': [0.8, 0.9],\n",
    "#                 'seasonality_prior_scale':[0.1, 1, 10.0],\n",
    "#                 'holidays_prior_scale':[0.1, 1, 10.0],\n",
    "#                 'seasonality_mode': ['multiplicative', 'additive'],\n",
    "#                 'growth': ['linear', 'logistic'],\n",
    "#                 'yearly_seasonality': [5, 10, 20]\n",
    "#                 'n_changepoints' : [25, 100, 200]\n",
    "#               }\n",
    "\n",
    "grid = ParameterGrid(param_grid)\n",
    "print('Total Possible Models: {}'.format(len(grid)))"
   ]
  },
  {
   "cell_type": "code",
   "execution_count": null,
   "metadata": {
    "execution": {
     "iopub.execute_input": "2022-04-24T06:43:35.64904Z",
     "iopub.status.busy": "2022-04-24T06:43:35.648501Z"
    }
   },
   "outputs": [],
   "source": [
    "from sklearn.metrics import mean_squared_error, mean_absolute_error\n",
    "import random\n",
    "\n",
    "model_parameters = pd.DataFrame(columns = ['RMSE','Parameters'])\n",
    "\n",
    "for p in grid:\n",
    "    print(p)\n",
    "    random.seed(0)\n",
    "    \n",
    "    model = Prophet(changepoint_prior_scale = p['changepoint_prior_scale'],\n",
    "                    seasonality_prior_scale = p['seasonality_prior_scale'],\n",
    "                    changepoint_range = p['changepoint_range'],\n",
    "                    interval_width=0.95)\n",
    "                        \n",
    "    model.fit(train_prophet)\n",
    "    \n",
    "    future = model.make_future_dataframe(periods=test_prophet.shape[0], \n",
    "                                         freq='1H')\n",
    "    forecast = model.predict(future)\n",
    "\n",
    "    RMSE = sqrt(mean_squared_error(test_prophet.y.values, forecast['yhat'][50000:]))\n",
    "\n",
    "    print('Root Mean Square Error(RMSE)------------------------------------{}'.format(RMSE))\n",
    "    model_parameters = model_parameters.append({'RMSE':RMSE,'Parameters':p}, ignore_index=True)"
   ]
  },
  {
   "cell_type": "code",
   "execution_count": null,
   "metadata": {},
   "outputs": [],
   "source": [
    "model_parameters = model_parameters.sort_values(by=['RMSE'])\n",
    "model_parameters = model_parameters.reset_index(drop=True)\n",
    "model_parameters.to_csv('model_parameters.csv')\n",
    "model_parameters"
   ]
  },
  {
   "cell_type": "markdown",
   "metadata": {},
   "source": [
    "## Prophet Univariate Training & Forecast\n",
    "Based on the hyper-parameter tuning earlier, the best parameters to set are\n",
    "* changepoint_prior_scale: 0.005\n",
    "* changepoint_range: 0.8 \n",
    "* seasonality_prior_scale: 0.01"
   ]
  },
  {
   "cell_type": "code",
   "execution_count": 14,
   "metadata": {
    "execution": {
     "iopub.execute_input": "2022-04-26T01:37:39.251013Z",
     "iopub.status.busy": "2022-04-26T01:37:39.250552Z",
     "iopub.status.idle": "2022-04-26T01:38:22.113519Z",
     "shell.execute_reply": "2022-04-26T01:38:22.112363Z",
     "shell.execute_reply.started": "2022-04-26T01:37:39.250978Z"
    }
   },
   "outputs": [],
   "source": [
    "%%time\n",
    "\n",
    "model = Prophet(changepoint_prior_scale = 0.005,\n",
    "                changepoint_range = 0.8,\n",
    "                seasonality_prior_scale = 0.01)  \n",
    "\n",
    "model.fit(train_prophet)"
   ]
  },
  {
   "cell_type": "code",
   "execution_count": 15,
   "metadata": {
    "execution": {
     "iopub.execute_input": "2022-04-26T01:38:22.115722Z",
     "iopub.status.busy": "2022-04-26T01:38:22.115470Z",
     "iopub.status.idle": "2022-04-26T01:39:11.591551Z",
     "shell.execute_reply": "2022-04-26T01:39:11.590464Z",
     "shell.execute_reply.started": "2022-04-26T01:38:22.115692Z"
    }
   },
   "outputs": [],
   "source": [
    "%%time\n",
    "\n",
    "future = model.make_future_dataframe(periods = test_prophet.shape[0], freq = '1H')  \n",
    "forecast = model.predict(future)\n",
    "forecast[['ds', 'yhat', 'yhat_lower', 'yhat_upper']]"
   ]
  },
  {
   "cell_type": "code",
   "execution_count": 16,
   "metadata": {
    "execution": {
     "iopub.execute_input": "2022-04-26T01:39:11.593092Z",
     "iopub.status.busy": "2022-04-26T01:39:11.592851Z",
     "iopub.status.idle": "2022-04-26T01:39:11.602102Z",
     "shell.execute_reply": "2022-04-26T01:39:11.601434Z",
     "shell.execute_reply.started": "2022-04-26T01:39:11.593062Z"
    }
   },
   "outputs": [],
   "source": [
    "from sklearn.metrics import mean_squared_error, mean_absolute_error\n",
    "\n",
    "rmse = sqrt(mean_squared_error(test_prophet.y.values,forecast['yhat'][50000:]))\n",
    "print('Prophet RMSE: %.3f' % rmse)\n",
    "\n",
    "mae = mean_absolute_error(test_prophet.y.values,forecast['yhat'][50000:])\n",
    "print('Prophet MAE: %.3f' % mae)"
   ]
  },
  {
   "cell_type": "code",
   "execution_count": 17,
   "metadata": {
    "execution": {
     "iopub.execute_input": "2022-04-26T01:50:55.169999Z",
     "iopub.status.busy": "2022-04-26T01:50:55.169672Z",
     "iopub.status.idle": "2022-04-26T01:50:56.747548Z",
     "shell.execute_reply": "2022-04-26T01:50:56.746942Z",
     "shell.execute_reply.started": "2022-04-26T01:50:55.169967Z"
    }
   },
   "outputs": [],
   "source": [
    "model.plot(forecast);"
   ]
  },
  {
   "cell_type": "code",
   "execution_count": 18,
   "metadata": {
    "execution": {
     "iopub.execute_input": "2022-04-26T01:50:57.479914Z",
     "iopub.status.busy": "2022-04-26T01:50:57.479262Z",
     "iopub.status.idle": "2022-04-26T01:50:57.756317Z",
     "shell.execute_reply": "2022-04-26T01:50:57.755460Z",
     "shell.execute_reply.started": "2022-04-26T01:50:57.479871Z"
    }
   },
   "outputs": [],
   "source": [
    "plt.figure(figsize=(12,6))\n",
    "plt.plot(test_prophet.y.values, label='Original')\n",
    "plt.plot(forecast['yhat'][50000:].values, ls='--', label=\"Predicted\")\n",
    "plt.legend(loc='best')\n",
    "plt.title('FB Prophet Univariate')\n",
    "plt.show()"
   ]
  },
  {
   "cell_type": "code",
   "execution_count": 19,
   "metadata": {
    "execution": {
     "iopub.execute_input": "2022-04-26T01:51:00.928094Z",
     "iopub.status.busy": "2022-04-26T01:51:00.927735Z",
     "iopub.status.idle": "2022-04-26T01:51:02.722350Z",
     "shell.execute_reply": "2022-04-26T01:51:02.721507Z",
     "shell.execute_reply.started": "2022-04-26T01:51:00.928058Z"
    }
   },
   "outputs": [],
   "source": [
    "model.plot_components(forecast);"
   ]
  },
  {
   "cell_type": "markdown",
   "metadata": {},
   "source": [
    "## Prophet Multivariate model training"
   ]
  },
  {
   "cell_type": "code",
   "execution_count": 17,
   "metadata": {
    "execution": {
     "iopub.execute_input": "2022-04-26T16:09:34.419352Z",
     "iopub.status.busy": "2022-04-26T16:09:34.418956Z",
     "iopub.status.idle": "2022-04-26T16:09:34.489246Z",
     "shell.execute_reply": "2022-04-26T16:09:34.488213Z",
     "shell.execute_reply.started": "2022-04-26T16:09:34.419309Z"
    }
   },
   "outputs": [],
   "source": [
    "MultiVar4Prophet = pd.DataFrame(x_scaled)\n",
    "MultiVar4Prophet = pd.concat([raw_data['Datetime'], MultiVar4Prophet], axis=1)\n",
    "MultiVar4Prophet.columns = ['ds', 'v0', 'y','v1','v2','v3','v4','v5','v6','v7','v8','v9','v10','v11', 'v12']\n",
    "MultiVar4Prophet.head(5)"
   ]
  },
  {
   "cell_type": "code",
   "execution_count": 18,
   "metadata": {
    "execution": {
     "iopub.execute_input": "2022-04-26T16:09:35.054449Z",
     "iopub.status.busy": "2022-04-26T16:09:35.053475Z",
     "iopub.status.idle": "2022-04-26T16:09:35.063293Z",
     "shell.execute_reply": "2022-04-26T16:09:35.062480Z",
     "shell.execute_reply.started": "2022-04-26T16:09:35.054376Z"
    }
   },
   "outputs": [],
   "source": [
    "print(MultiVar4Prophet.shape)\n",
    "MultiVar4Prophet = MultiVar4Prophet.iloc[::6, :]\n",
    "print(MultiVar4Prophet.shape)"
   ]
  },
  {
   "cell_type": "code",
   "execution_count": 19,
   "metadata": {
    "execution": {
     "iopub.execute_input": "2022-04-26T16:09:35.870453Z",
     "iopub.status.busy": "2022-04-26T16:09:35.870140Z",
     "iopub.status.idle": "2022-04-26T16:09:35.894092Z",
     "shell.execute_reply": "2022-04-26T16:09:35.893113Z",
     "shell.execute_reply.started": "2022-04-26T16:09:35.870396Z"
    }
   },
   "outputs": [],
   "source": [
    "trainProphet = MultiVar4Prophet.iloc[0:50000]\n",
    "print(trainProphet.shape)\n",
    "trainProphet.head(5)"
   ]
  },
  {
   "cell_type": "code",
   "execution_count": 20,
   "metadata": {
    "execution": {
     "iopub.execute_input": "2022-04-26T16:09:36.500540Z",
     "iopub.status.busy": "2022-04-26T16:09:36.499583Z",
     "iopub.status.idle": "2022-04-26T16:09:36.531116Z",
     "shell.execute_reply": "2022-04-26T16:09:36.530559Z",
     "shell.execute_reply.started": "2022-04-26T16:09:36.500486Z"
    }
   },
   "outputs": [],
   "source": [
    "testProphet = MultiVar4Prophet.iloc[50001:]\n",
    "testProphet.reset_index(inplace=True)\n",
    "testProphet.drop('index', axis = 1, inplace=True)\n",
    "print(testProphet.shape)\n",
    "testProphet.head(5)"
   ]
  },
  {
   "cell_type": "code",
   "execution_count": 21,
   "metadata": {
    "execution": {
     "iopub.execute_input": "2022-04-26T16:09:38.075163Z",
     "iopub.status.busy": "2022-04-26T16:09:38.073984Z",
     "iopub.status.idle": "2022-04-26T16:19:15.879008Z",
     "shell.execute_reply": "2022-04-26T16:19:15.876242Z",
     "shell.execute_reply.started": "2022-04-26T16:09:38.075103Z"
    }
   },
   "outputs": [],
   "source": [
    "%%time\n",
    "\n",
    "model = Prophet(changepoint_prior_scale = 0.005,\n",
    "                changepoint_range = 0.8,\n",
    "                seasonality_prior_scale = 0.01)\n",
    "\n",
    "model.add_regressor('v0')\n",
    "model.add_regressor('v1')\n",
    "model.add_regressor('v2')\n",
    "model.add_regressor('v3')\n",
    "model.add_regressor('v4')\n",
    "model.add_regressor('v5')\n",
    "model.add_regressor('v6')\n",
    "model.add_regressor('v7')\n",
    "model.add_regressor('v8')\n",
    "model.add_regressor('v9')\n",
    "model.add_regressor('v10')\n",
    "model.add_regressor('v11')\n",
    "model.add_regressor('v12')\n",
    "\n",
    "model.fit(trainProphet)\n",
    "print('Prophet is trained')"
   ]
  },
  {
   "cell_type": "code",
   "execution_count": 22,
   "metadata": {
    "execution": {
     "iopub.execute_input": "2022-04-26T16:19:15.882210Z",
     "iopub.status.busy": "2022-04-26T16:19:15.881602Z",
     "iopub.status.idle": "2022-04-26T16:19:33.397866Z",
     "shell.execute_reply": "2022-04-26T16:19:33.397092Z",
     "shell.execute_reply.started": "2022-04-26T16:19:15.882165Z"
    }
   },
   "outputs": [],
   "source": [
    "%%time\n",
    "\n",
    "future = model.make_future_dataframe(periods = testProphet.shape[0], freq = '1H')  \n",
    "forecast = model.predict(testProphet)\n",
    "forecast[['ds', 'yhat', 'yhat_lower', 'yhat_upper']]"
   ]
  },
  {
   "cell_type": "code",
   "execution_count": 23,
   "metadata": {
    "execution": {
     "iopub.execute_input": "2022-04-26T16:19:33.399216Z",
     "iopub.status.busy": "2022-04-26T16:19:33.398987Z",
     "iopub.status.idle": "2022-04-26T16:19:33.408712Z",
     "shell.execute_reply": "2022-04-26T16:19:33.407864Z",
     "shell.execute_reply.started": "2022-04-26T16:19:33.399187Z"
    }
   },
   "outputs": [],
   "source": [
    "from sklearn.metrics import mean_squared_error, mean_absolute_error\n",
    "\n",
    "print(len(testProphet.y.values))\n",
    "print(len(forecast['yhat']))\n",
    "\n",
    "rmse = sqrt(mean_squared_error(testProphet.y.values,forecast['yhat']))\n",
    "print('Prophet RMSE: %.3f' % rmse)\n",
    "\n",
    "mae = mean_absolute_error(testProphet.y.values,forecast['yhat'])\n",
    "print('Prophet MAE: %.3f' % mae)"
   ]
  },
  {
   "cell_type": "code",
   "execution_count": null,
   "metadata": {},
   "outputs": [],
   "source": []
  }
 ],
 "metadata": {
  "kernelspec": {
   "display_name": "Python 3 (ipykernel)",
   "language": "python",
   "name": "python3"
  },
  "language_info": {
   "codemirror_mode": {
    "name": "ipython",
    "version": 3
   },
   "file_extension": ".py",
   "mimetype": "text/x-python",
   "name": "python",
   "nbconvert_exporter": "python",
   "pygments_lexer": "ipython3",
   "version": "3.7.11"
  }
 },
 "nbformat": 4,
 "nbformat_minor": 4
}
