{
 "cells": [
  {
   "cell_type": "markdown",
   "metadata": {},
   "source": [
    "## Predicting age profile of Abalone"
   ]
  },
  {
   "cell_type": "markdown",
   "metadata": {},
   "source": [
    "Predict the age profile of Abalone from physical measurements.  The age of abalone is determined by cutting the shell through the cone, staining it,and counting the number of rings through a microscope -- a boring and time-consuming task. Other measurements, which are easier to obtain, are used to predict the age."
   ]
  },
  {
   "cell_type": "code",
   "execution_count": 1,
   "metadata": {},
   "outputs": [],
   "source": [
    "import numpy as np\n",
    "import pandas as pd\n",
    "import matplotlib.pyplot as plt\n",
    "from sklearn.metrics import classification_report\n",
    "from sklearn.metrics import confusion_matrix\n",
    "from sklearn.metrics import accuracy_score\n",
    "from sklearn.model_selection import train_test_split\n",
    "from sklearn.model_selection import cross_val_score\n",
    "from sklearn.model_selection import KFold\n",
    "from sklearn.pipeline import Pipeline\n",
    "from sklearn.model_selection import GridSearchCV\n",
    "import time\n",
    "from math import sqrt"
   ]
  },
  {
   "cell_type": "markdown",
   "metadata": {},
   "source": [
    "## Exploratory analysis\n",
    "\n",
    "Load the dataset and do some quick exploratory analysis."
   ]
  },
  {
   "cell_type": "code",
   "execution_count": 2,
   "metadata": {},
   "outputs": [
    {
     "data": {
      "text/html": [
       "<div>\n",
       "<style scoped>\n",
       "    .dataframe tbody tr th:only-of-type {\n",
       "        vertical-align: middle;\n",
       "    }\n",
       "\n",
       "    .dataframe tbody tr th {\n",
       "        vertical-align: top;\n",
       "    }\n",
       "\n",
       "    .dataframe thead th {\n",
       "        text-align: right;\n",
       "    }\n",
       "</style>\n",
       "<table border=\"1\" class=\"dataframe\">\n",
       "  <thead>\n",
       "    <tr style=\"text-align: right;\">\n",
       "      <th></th>\n",
       "      <th>Sex</th>\n",
       "      <th>Length</th>\n",
       "      <th>Diameter</th>\n",
       "      <th>Height</th>\n",
       "      <th>Whole_weight</th>\n",
       "      <th>Shucked_weight</th>\n",
       "      <th>Viscera_weight</th>\n",
       "      <th>Shell_weight</th>\n",
       "      <th>Rings</th>\n",
       "    </tr>\n",
       "  </thead>\n",
       "  <tbody>\n",
       "    <tr>\n",
       "      <th>0</th>\n",
       "      <td>M</td>\n",
       "      <td>0.455</td>\n",
       "      <td>0.365</td>\n",
       "      <td>0.095</td>\n",
       "      <td>0.5140</td>\n",
       "      <td>0.2245</td>\n",
       "      <td>0.1010</td>\n",
       "      <td>0.150</td>\n",
       "      <td>15</td>\n",
       "    </tr>\n",
       "    <tr>\n",
       "      <th>1</th>\n",
       "      <td>M</td>\n",
       "      <td>0.350</td>\n",
       "      <td>0.265</td>\n",
       "      <td>0.090</td>\n",
       "      <td>0.2255</td>\n",
       "      <td>0.0995</td>\n",
       "      <td>0.0485</td>\n",
       "      <td>0.070</td>\n",
       "      <td>7</td>\n",
       "    </tr>\n",
       "    <tr>\n",
       "      <th>2</th>\n",
       "      <td>F</td>\n",
       "      <td>0.530</td>\n",
       "      <td>0.420</td>\n",
       "      <td>0.135</td>\n",
       "      <td>0.6770</td>\n",
       "      <td>0.2565</td>\n",
       "      <td>0.1415</td>\n",
       "      <td>0.210</td>\n",
       "      <td>9</td>\n",
       "    </tr>\n",
       "    <tr>\n",
       "      <th>3</th>\n",
       "      <td>M</td>\n",
       "      <td>0.440</td>\n",
       "      <td>0.365</td>\n",
       "      <td>0.125</td>\n",
       "      <td>0.5160</td>\n",
       "      <td>0.2155</td>\n",
       "      <td>0.1140</td>\n",
       "      <td>0.155</td>\n",
       "      <td>10</td>\n",
       "    </tr>\n",
       "    <tr>\n",
       "      <th>4</th>\n",
       "      <td>I</td>\n",
       "      <td>0.330</td>\n",
       "      <td>0.255</td>\n",
       "      <td>0.080</td>\n",
       "      <td>0.2050</td>\n",
       "      <td>0.0895</td>\n",
       "      <td>0.0395</td>\n",
       "      <td>0.055</td>\n",
       "      <td>7</td>\n",
       "    </tr>\n",
       "  </tbody>\n",
       "</table>\n",
       "</div>"
      ],
      "text/plain": [
       "  Sex  Length  Diameter  Height  Whole_weight  Shucked_weight  Viscera_weight  \\\n",
       "0   M   0.455     0.365   0.095        0.5140          0.2245          0.1010   \n",
       "1   M   0.350     0.265   0.090        0.2255          0.0995          0.0485   \n",
       "2   F   0.530     0.420   0.135        0.6770          0.2565          0.1415   \n",
       "3   M   0.440     0.365   0.125        0.5160          0.2155          0.1140   \n",
       "4   I   0.330     0.255   0.080        0.2050          0.0895          0.0395   \n",
       "\n",
       "   Shell_weight  Rings  \n",
       "0         0.150     15  \n",
       "1         0.070      7  \n",
       "2         0.210      9  \n",
       "3         0.155     10  \n",
       "4         0.055      7  "
      ]
     },
     "execution_count": 2,
     "metadata": {},
     "output_type": "execute_result"
    }
   ],
   "source": [
    "column_names = ['Sex', 'Length', 'Diameter', 'Height', 'Whole_weight','Shucked_weight', \n",
    "                 'Viscera_weight', 'Shell_weight', 'Rings']\n",
    "data = pd.read_csv('abalone.txt', index_col=False, delimiter = \",\", names=column_names)\n",
    "data.head(5)"
   ]
  },
  {
   "cell_type": "code",
   "execution_count": 3,
   "metadata": {},
   "outputs": [
    {
     "name": "stdout",
     "output_type": "stream",
     "text": [
      "(4177, 9)\n"
     ]
    }
   ],
   "source": [
    "print(data.shape)"
   ]
  },
  {
   "cell_type": "code",
   "execution_count": 4,
   "metadata": {},
   "outputs": [
    {
     "data": {
      "text/html": [
       "<div>\n",
       "<style scoped>\n",
       "    .dataframe tbody tr th:only-of-type {\n",
       "        vertical-align: middle;\n",
       "    }\n",
       "\n",
       "    .dataframe tbody tr th {\n",
       "        vertical-align: top;\n",
       "    }\n",
       "\n",
       "    .dataframe thead th {\n",
       "        text-align: right;\n",
       "    }\n",
       "</style>\n",
       "<table border=\"1\" class=\"dataframe\">\n",
       "  <thead>\n",
       "    <tr style=\"text-align: right;\">\n",
       "      <th></th>\n",
       "      <th>Length</th>\n",
       "      <th>Diameter</th>\n",
       "      <th>Height</th>\n",
       "      <th>Whole_weight</th>\n",
       "      <th>Shucked_weight</th>\n",
       "      <th>Viscera_weight</th>\n",
       "      <th>Shell_weight</th>\n",
       "      <th>Rings</th>\n",
       "    </tr>\n",
       "  </thead>\n",
       "  <tbody>\n",
       "    <tr>\n",
       "      <th>count</th>\n",
       "      <td>4177.000000</td>\n",
       "      <td>4177.000000</td>\n",
       "      <td>4177.000000</td>\n",
       "      <td>4177.000000</td>\n",
       "      <td>4177.000000</td>\n",
       "      <td>4177.000000</td>\n",
       "      <td>4177.000000</td>\n",
       "      <td>4177.000000</td>\n",
       "    </tr>\n",
       "    <tr>\n",
       "      <th>mean</th>\n",
       "      <td>0.523992</td>\n",
       "      <td>0.407881</td>\n",
       "      <td>0.139516</td>\n",
       "      <td>0.828742</td>\n",
       "      <td>0.359367</td>\n",
       "      <td>0.180594</td>\n",
       "      <td>0.238831</td>\n",
       "      <td>9.933684</td>\n",
       "    </tr>\n",
       "    <tr>\n",
       "      <th>std</th>\n",
       "      <td>0.120093</td>\n",
       "      <td>0.099240</td>\n",
       "      <td>0.041827</td>\n",
       "      <td>0.490389</td>\n",
       "      <td>0.221963</td>\n",
       "      <td>0.109614</td>\n",
       "      <td>0.139203</td>\n",
       "      <td>3.224169</td>\n",
       "    </tr>\n",
       "    <tr>\n",
       "      <th>min</th>\n",
       "      <td>0.075000</td>\n",
       "      <td>0.055000</td>\n",
       "      <td>0.000000</td>\n",
       "      <td>0.002000</td>\n",
       "      <td>0.001000</td>\n",
       "      <td>0.000500</td>\n",
       "      <td>0.001500</td>\n",
       "      <td>1.000000</td>\n",
       "    </tr>\n",
       "    <tr>\n",
       "      <th>25%</th>\n",
       "      <td>0.450000</td>\n",
       "      <td>0.350000</td>\n",
       "      <td>0.115000</td>\n",
       "      <td>0.441500</td>\n",
       "      <td>0.186000</td>\n",
       "      <td>0.093500</td>\n",
       "      <td>0.130000</td>\n",
       "      <td>8.000000</td>\n",
       "    </tr>\n",
       "    <tr>\n",
       "      <th>50%</th>\n",
       "      <td>0.545000</td>\n",
       "      <td>0.425000</td>\n",
       "      <td>0.140000</td>\n",
       "      <td>0.799500</td>\n",
       "      <td>0.336000</td>\n",
       "      <td>0.171000</td>\n",
       "      <td>0.234000</td>\n",
       "      <td>9.000000</td>\n",
       "    </tr>\n",
       "    <tr>\n",
       "      <th>75%</th>\n",
       "      <td>0.615000</td>\n",
       "      <td>0.480000</td>\n",
       "      <td>0.165000</td>\n",
       "      <td>1.153000</td>\n",
       "      <td>0.502000</td>\n",
       "      <td>0.253000</td>\n",
       "      <td>0.329000</td>\n",
       "      <td>11.000000</td>\n",
       "    </tr>\n",
       "    <tr>\n",
       "      <th>max</th>\n",
       "      <td>0.815000</td>\n",
       "      <td>0.650000</td>\n",
       "      <td>1.130000</td>\n",
       "      <td>2.825500</td>\n",
       "      <td>1.488000</td>\n",
       "      <td>0.760000</td>\n",
       "      <td>1.005000</td>\n",
       "      <td>29.000000</td>\n",
       "    </tr>\n",
       "  </tbody>\n",
       "</table>\n",
       "</div>"
      ],
      "text/plain": [
       "            Length     Diameter       Height  Whole_weight  Shucked_weight  \\\n",
       "count  4177.000000  4177.000000  4177.000000   4177.000000     4177.000000   \n",
       "mean      0.523992     0.407881     0.139516      0.828742        0.359367   \n",
       "std       0.120093     0.099240     0.041827      0.490389        0.221963   \n",
       "min       0.075000     0.055000     0.000000      0.002000        0.001000   \n",
       "25%       0.450000     0.350000     0.115000      0.441500        0.186000   \n",
       "50%       0.545000     0.425000     0.140000      0.799500        0.336000   \n",
       "75%       0.615000     0.480000     0.165000      1.153000        0.502000   \n",
       "max       0.815000     0.650000     1.130000      2.825500        1.488000   \n",
       "\n",
       "       Viscera_weight  Shell_weight        Rings  \n",
       "count     4177.000000   4177.000000  4177.000000  \n",
       "mean         0.180594      0.238831     9.933684  \n",
       "std          0.109614      0.139203     3.224169  \n",
       "min          0.000500      0.001500     1.000000  \n",
       "25%          0.093500      0.130000     8.000000  \n",
       "50%          0.171000      0.234000     9.000000  \n",
       "75%          0.253000      0.329000    11.000000  \n",
       "max          0.760000      1.005000    29.000000  "
      ]
     },
     "execution_count": 4,
     "metadata": {},
     "output_type": "execute_result"
    }
   ],
   "source": [
    "data.describe()"
   ]
  },
  {
   "cell_type": "markdown",
   "metadata": {},
   "source": [
    "## Data visualisation and pre-processing\n"
   ]
  },
  {
   "cell_type": "markdown",
   "metadata": {},
   "source": [
    "Let's take a look at the number of Male, Female and Infant samples from the dataset. From the output shown below, the distribution between the 3 categories is balance."
   ]
  },
  {
   "cell_type": "code",
   "execution_count": 5,
   "metadata": {},
   "outputs": [
    {
     "name": "stdout",
     "output_type": "stream",
     "text": [
      "Sex\n",
      "F    1307\n",
      "I    1342\n",
      "M    1528\n",
      "dtype: int64\n"
     ]
    }
   ],
   "source": [
    "print(data.groupby('Sex').size())"
   ]
  },
  {
   "cell_type": "markdown",
   "metadata": {},
   "source": [
    "Next, we visualise the data using density plots to get a sense of the data distribution. From the outputs below, you can see the data shows a general gaussian distribution. "
   ]
  },
  {
   "cell_type": "code",
   "execution_count": 6,
   "metadata": {},
   "outputs": [
    {
     "data": {
      "image/png": "[encoded data removed]",
      "text/plain": [
       "<Figure size 432x288 with 16 Axes>"
      ]
     },
     "metadata": {
      "needs_background": "light"
     },
     "output_type": "display_data"
    }
   ],
   "source": [
    "data.plot(kind='density', subplots=True, layout=(4,4), sharex=False, legend=False, fontsize=1)\n",
    "plt.show()"
   ]
  },
  {
   "cell_type": "markdown",
   "metadata": {},
   "source": [
    "It is good to check the correlations between the attributes. From the output graph below, The red around\n",
    "the diagonal suggests that attributes are correlated with each other. The yellow and green patches suggest some moderate correlation and the blue boxes show negative correlations. "
   ]
  },
  {
   "cell_type": "code",
   "execution_count": 7,
   "metadata": {},
   "outputs": [
    {
     "data": {
      "image/png": "[encoded data removed]",
      "text/plain": [
       "<Figure size 432x288 with 2 Axes>"
      ]
     },
     "metadata": {},
     "output_type": "display_data"
    }
   ],
   "source": [
    "import seaborn as sns\n",
    "\n",
    "correlation_map = data.corr(method='pearson')\n",
    "sns.set(font_scale=1.0)\n",
    "sns.heatmap(correlation_map, cbar=True, annot=True, square=True, fmt='.2f', \n",
    "            yticklabels=correlation_map.columns.values, \n",
    "            xticklabels=correlation_map.columns.values)\n",
    "\n",
    "plt.show()"
   ]
  },
  {
   "cell_type": "code",
   "execution_count": 8,
   "metadata": {},
   "outputs": [],
   "source": [
    "sex = {'M': 1, 'F': 2, 'I': 0}\n",
    "# Use the dictionary to map the 'winner' column to the new column: election['color']\n",
    "data['Sex'] = data.Sex.map(sex)"
   ]
  },
  {
   "cell_type": "code",
   "execution_count": 9,
   "metadata": {},
   "outputs": [],
   "source": [
    "Y = data['Rings'].values\n",
    "X = data.drop('Rings', axis=1).values\n",
    "\n",
    "X_train, X_test, Y_train, Y_test = train_test_split (X, Y, test_size = 0.20, random_state=21)"
   ]
  },
  {
   "cell_type": "markdown",
   "metadata": {},
   "source": [
    "## Baseline algorithm checking\n"
   ]
  },
  {
   "cell_type": "code",
   "execution_count": 10,
   "metadata": {},
   "outputs": [],
   "source": [
    "from sklearn.linear_model import LinearRegression\n",
    "from sklearn.linear_model import Lasso\n",
    "from sklearn.linear_model import ElasticNet\n",
    "from sklearn.tree import DecisionTreeRegressor\n",
    "from sklearn.neighbors import KNeighborsRegressor\n",
    "from sklearn.svm import SVR\n",
    "from sklearn.ensemble import RandomForestRegressor\n",
    "from sklearn.ensemble import ExtraTreesRegressor\n",
    "from sklearn.ensemble import AdaBoostRegressor\n",
    "from sklearn.ensemble import GradientBoostingRegressor"
   ]
  },
  {
   "cell_type": "code",
   "execution_count": 12,
   "metadata": {},
   "outputs": [
    {
     "name": "stdout",
     "output_type": "stream",
     "text": [
      "LR: RMSE 2.206841 (STD 0.666966) (run time: 0.022045)\n",
      "LASSO: RMSE 3.180430 (STD 0.889317) (run time: 0.020140)\n",
      "EN: RMSE 2.992304 (STD 0.795334) (run time: 0.012413)\n",
      "KNN: RMSE 2.225850 (STD 0.567538) (run time: 0.036672)\n",
      "CART: RMSE 3.043402 (STD 0.876658) (run time: 0.139124)\n",
      "SVR: RMSE 2.250653 (STD 0.587349) (run time: 4.042637)\n",
      "GBR: RMSE 2.136938 (STD 0.484993) (run time: 3.026530)\n",
      "AB: RMSE 2.748213 (STD 0.695158) (run time: 1.447725)\n",
      "RF: RMSE 2.169396 (STD 0.476952) (run time: 8.709532)\n",
      "ET: RMSE 2.179258 (STD 0.467286) (run time: 4.654079)\n"
     ]
    }
   ],
   "source": [
    "models = []\n",
    "models.append(('LR', LinearRegression()))\n",
    "models.append(('LASSO', Lasso()))\n",
    "models.append(('EN', ElasticNet()))\n",
    "models.append(('KNN', KNeighborsRegressor()))\n",
    "models.append(('CART', DecisionTreeRegressor()))\n",
    "models.append(('SVR', SVR()))\n",
    "models.append(('GBR', GradientBoostingRegressor()))\n",
    "models.append(('AB', AdaBoostRegressor()))\n",
    "models.append(('RF', RandomForestRegressor()))\n",
    "models.append(('ET', ExtraTreesRegressor()))\n",
    "\n",
    "results = []\n",
    "names = []\n",
    "for name, model in models:\n",
    "    kfold = KFold(n_splits=10, random_state=21, shuffle=True)\n",
    "    start = time.time()\n",
    "    cv_results = abs(cross_val_score(model, X_train, Y_train, cv=kfold, scoring='neg_mean_squared_error'))\n",
    "    end = time.time()\n",
    "    results.append(cv_results)\n",
    "    names.append(name)\n",
    "    print( \"%s: RMSE %f (STD %f) (run time: %f)\" % (name, sqrt(cv_results.mean()), cv_results.std(), end-start))"
   ]
  },
  {
   "cell_type": "code",
   "execution_count": 13,
   "metadata": {},
   "outputs": [
    {
     "data": {
      "image/png": "[encoded data removed]",
      "text/plain": [
       "<Figure size 432x288 with 1 Axes>"
      ]
     },
     "metadata": {},
     "output_type": "display_data"
    }
   ],
   "source": [
    "fig = plt.figure()\n",
    "fig.suptitle('Performance Comparison')\n",
    "ax = fig.add_subplot(111)\n",
    "plt.boxplot(results)\n",
    "ax.set_xticklabels(names)\n",
    "plt.show()"
   ]
  },
  {
   "cell_type": "markdown",
   "metadata": {},
   "source": [
    "From the initial run, it looks like Gradient Boosting Method performed the best given the dataset. "
   ]
  },
  {
   "cell_type": "code",
   "execution_count": 14,
   "metadata": {},
   "outputs": [
    {
     "name": "stdout",
     "output_type": "stream",
     "text": [
      "2.157887 (0.496869) with: {'n_estimators': 50}\n",
      "2.137637 (0.493237) with: {'n_estimators': 100}\n",
      "2.151172 (0.545425) with: {'n_estimators': 200}\n",
      "2.170447 (0.566922) with: {'n_estimators': 300}\n",
      "2.188374 (0.624880) with: {'n_estimators': 400}\n",
      "2.211073 (0.650115) with: {'n_estimators': 500}\n",
      "Best: 2.137637 using {'n_estimators': 100} (run time :48.896706)\n"
     ]
    }
   ],
   "source": [
    "from sklearn.model_selection import GridSearchCV\n",
    "\n",
    "param_grid = dict(n_estimators=np.array([50,100,200,300,400, 500]))\n",
    "model = GradientBoostingRegressor(random_state=21)\n",
    "kfold = KFold(n_splits=10, random_state=21, shuffle=True)\n",
    "grid = GridSearchCV(estimator=model, param_grid=param_grid, scoring='neg_mean_squared_error', cv=kfold)\n",
    "start = time.time()\n",
    "grid_result = grid.fit(X_train, Y_train)\n",
    "end = time.time()\n",
    "\n",
    "means = grid_result.cv_results_['mean_test_score']\n",
    "stds = grid_result.cv_results_['std_test_score']\n",
    "params = grid_result.cv_results_['params']\n",
    "for mean, stdev, param in zip(means, stds, params):\n",
    "    print(\"%f (%f) with: %r\" % (sqrt(abs(mean)), stdev, param))\n",
    "\n",
    "print(\"Best: %f using %s (run time :%f)\" % (sqrt(abs(grid_result.best_score_)), grid_result.best_params_, end-start))"
   ]
  },
  {
   "cell_type": "markdown",
   "metadata": {},
   "source": [
    "The best n_estimator configuration is 100 with the root mean square error closest to 0."
   ]
  },
  {
   "cell_type": "code",
   "execution_count": 15,
   "metadata": {},
   "outputs": [
    {
     "name": "stdout",
     "output_type": "stream",
     "text": [
      "2.3120756432055387\n"
     ]
    }
   ],
   "source": [
    "from sklearn.metrics import mean_squared_error\n",
    "\n",
    "model = GradientBoostingRegressor(random_state=21, n_estimators=100)\n",
    "model.fit(X_train, Y_train)\n",
    "\n",
    "# transform the validation dataset\n",
    "predictions = np.round(model.predict(X_test),0)\n",
    "print (sqrt(mean_squared_error(Y_test, predictions)))"
   ]
  },
  {
   "cell_type": "code",
   "execution_count": 16,
   "metadata": {},
   "outputs": [
    {
     "data": {
      "text/html": [
       "<div>\n",
       "<style scoped>\n",
       "    .dataframe tbody tr th:only-of-type {\n",
       "        vertical-align: middle;\n",
       "    }\n",
       "\n",
       "    .dataframe tbody tr th {\n",
       "        vertical-align: top;\n",
       "    }\n",
       "\n",
       "    .dataframe thead th {\n",
       "        text-align: right;\n",
       "    }\n",
       "</style>\n",
       "<table border=\"1\" class=\"dataframe\">\n",
       "  <thead>\n",
       "    <tr style=\"text-align: right;\">\n",
       "      <th></th>\n",
       "      <th>Prediction</th>\n",
       "      <th>Test Data</th>\n",
       "    </tr>\n",
       "  </thead>\n",
       "  <tbody>\n",
       "    <tr>\n",
       "      <th>0</th>\n",
       "      <td>11.0</td>\n",
       "      <td>12</td>\n",
       "    </tr>\n",
       "    <tr>\n",
       "      <th>1</th>\n",
       "      <td>11.0</td>\n",
       "      <td>12</td>\n",
       "    </tr>\n",
       "    <tr>\n",
       "      <th>2</th>\n",
       "      <td>9.0</td>\n",
       "      <td>8</td>\n",
       "    </tr>\n",
       "    <tr>\n",
       "      <th>3</th>\n",
       "      <td>8.0</td>\n",
       "      <td>9</td>\n",
       "    </tr>\n",
       "    <tr>\n",
       "      <th>4</th>\n",
       "      <td>8.0</td>\n",
       "      <td>10</td>\n",
       "    </tr>\n",
       "    <tr>\n",
       "      <th>5</th>\n",
       "      <td>10.0</td>\n",
       "      <td>9</td>\n",
       "    </tr>\n",
       "    <tr>\n",
       "      <th>6</th>\n",
       "      <td>11.0</td>\n",
       "      <td>10</td>\n",
       "    </tr>\n",
       "    <tr>\n",
       "      <th>7</th>\n",
       "      <td>12.0</td>\n",
       "      <td>10</td>\n",
       "    </tr>\n",
       "    <tr>\n",
       "      <th>8</th>\n",
       "      <td>9.0</td>\n",
       "      <td>10</td>\n",
       "    </tr>\n",
       "    <tr>\n",
       "      <th>9</th>\n",
       "      <td>9.0</td>\n",
       "      <td>8</td>\n",
       "    </tr>\n",
       "  </tbody>\n",
       "</table>\n",
       "</div>"
      ],
      "text/plain": [
       "   Prediction  Test Data\n",
       "0        11.0         12\n",
       "1        11.0         12\n",
       "2         9.0          8\n",
       "3         8.0          9\n",
       "4         8.0         10\n",
       "5        10.0          9\n",
       "6        11.0         10\n",
       "7        12.0         10\n",
       "8         9.0         10\n",
       "9         9.0          8"
      ]
     },
     "execution_count": 16,
     "metadata": {},
     "output_type": "execute_result"
    }
   ],
   "source": [
    "compare = pd.DataFrame({'Prediction': predictions, 'Test Data' : Y_test})\n",
    "compare.head(10)"
   ]
  },
  {
   "cell_type": "markdown",
   "metadata": {},
   "source": [
    "## Feature Importance\n",
    "\n",
    "Let's take a look what are the important features GBR used to build the model."
   ]
  },
  {
   "cell_type": "code",
   "execution_count": 17,
   "metadata": {},
   "outputs": [],
   "source": [
    "train = data.drop('Rings', axis = 1)\n",
    "pd.set_option('display.float_format', lambda x: '%.3f' % x)\n",
    "priority = pd.DataFrame({'Attribute Label': train.columns, 'Feature Importances': model.feature_importances_})\n",
    "priority = priority.sort_values('Feature Importances', ascending=False)"
   ]
  },
  {
   "cell_type": "code",
   "execution_count": 18,
   "metadata": {},
   "outputs": [
    {
     "data": {
      "image/png": "[encoded data removed]",
      "text/plain": [
       "<Figure size 432x288 with 1 Axes>"
      ]
     },
     "metadata": {},
     "output_type": "display_data"
    }
   ],
   "source": [
    "fig = plt.figure()\n",
    "fig.suptitle('Feature Importance Comparison')\n",
    "ax = fig.add_subplot(111)\n",
    "plt.bar(range(len(priority)), priority['Feature Importances'])\n",
    "ax.set_xticks(np.arange(len(priority['Attribute Label'])))\n",
    "ax.set_xticklabels(priority['Attribute Label'], rotation=70)\n",
    "plt.ylabel('Importance Score')\n",
    "plt.xlabel('Attribute Labels')\n",
    "plt.show()"
   ]
  },
  {
   "cell_type": "markdown",
   "metadata": {},
   "source": [
    "## Using Neural Network to predict the age"
   ]
  },
  {
   "cell_type": "code",
   "execution_count": 22,
   "metadata": {},
   "outputs": [],
   "source": [
    "from tensorflow import keras\n",
    "from keras.layers import Dense\n",
    "from keras.models import Sequential\n",
    "from keras import optimizers"
   ]
  },
  {
   "cell_type": "code",
   "execution_count": 23,
   "metadata": {},
   "outputs": [],
   "source": [
    "#Initialise Model\n",
    "n_cols = X_train.shape[1] # Save the number of columns in predictors: n_cols\n",
    "model = Sequential()\n",
    "model.add(Dense(2*n_cols, activation='relu', input_shape=(n_cols,))) # Add the first layer\n",
    "model.add(Dense(32, activation='relu')) #Add the second layer\n",
    "model.add(Dense(1)) # Add the output layer, 1 neuron\n",
    "model.compile(optimizer='adam', loss='mean_squared_error')"
   ]
  },
  {
   "cell_type": "code",
   "execution_count": 25,
   "metadata": {},
   "outputs": [
    {
     "name": "stderr",
     "output_type": "stream",
     "text": [
      "/Users/christopher_sia/opt/anaconda3/envs/python37/lib/python3.7/site-packages/keras/optimizer_v2/gradient_descent.py:102: UserWarning: The `lr` argument is deprecated, use `learning_rate` instead.\n",
      "  super(SGD, self).__init__(name, **kwargs)\n"
     ]
    }
   ],
   "source": [
    "#initiate the optimizer\n",
    "sgd = keras.optimizers.SGD(lr=0.01, decay=1e-6, momentum=0.9, nesterov=True) \n",
    "model.compile(loss='mean_squared_error', optimizer=sgd)"
   ]
  },
  {
   "cell_type": "code",
   "execution_count": null,
   "metadata": {},
   "outputs": [
    {
     "name": "stdout",
     "output_type": "stream",
     "text": [
      "[INFO] evaluating on testing set...\n",
      "Epoch 1/500\n",
      "84/84 [==============================] - 0s 2ms/step - loss: 10.6685 - val_loss: 9.0901\n",
      "Epoch 2/500\n",
      "84/84 [==============================] - 0s 936us/step - loss: 6.3950 - val_loss: 5.9033\n",
      "Epoch 3/500\n",
      "84/84 [==============================] - 0s 949us/step - loss: 6.5654 - val_loss: 5.7575\n",
      "Epoch 4/500\n",
      "84/84 [==============================] - 0s 925us/step - loss: 6.0268 - val_loss: 5.5725\n",
      "Epoch 5/500\n",
      "84/84 [==============================] - 0s 943us/step - loss: 5.7639 - val_loss: 4.8265\n",
      "Epoch 6/500\n",
      "84/84 [==============================] - 0s 970us/step - loss: 6.6742 - val_loss: 6.1517\n",
      "Epoch 7/500\n",
      "84/84 [==============================] - 0s 1ms/step - loss: 6.4925 - val_loss: 6.6480\n",
      "Epoch 8/500\n",
      "84/84 [==============================] - 0s 2ms/step - loss: 6.3300 - val_loss: 5.4718\n",
      "Epoch 9/500\n",
      "84/84 [==============================] - 0s 1ms/step - loss: 6.0569 - val_loss: 5.1528\n",
      "Epoch 10/500\n",
      "84/84 [==============================] - 0s 1ms/step - loss: 5.2637 - val_loss: 5.1905\n",
      "Epoch 11/500\n",
      "84/84 [==============================] - 0s 996us/step - loss: 5.4308 - val_loss: 6.1938\n",
      "Epoch 12/500\n",
      "84/84 [==============================] - 0s 977us/step - loss: 5.2461 - val_loss: 4.8314\n",
      "Epoch 13/500\n",
      "84/84 [==============================] - 0s 977us/step - loss: 5.1433 - val_loss: 5.1106\n",
      "Epoch 14/500\n",
      "84/84 [==============================] - 0s 1ms/step - loss: 5.0520 - val_loss: 5.0922\n",
      "Epoch 15/500\n",
      "84/84 [==============================] - 0s 1ms/step - loss: 4.8788 - val_loss: 5.4025\n",
      "Epoch 16/500\n",
      "84/84 [==============================] - 0s 986us/step - loss: 5.1039 - val_loss: 5.3844\n",
      "Epoch 17/500\n",
      "84/84 [==============================] - 0s 995us/step - loss: 4.9027 - val_loss: 4.8653\n",
      "Epoch 18/500\n",
      "84/84 [==============================] - 0s 1000us/step - loss: 4.7291 - val_loss: 4.8172\n",
      "Epoch 19/500\n",
      "84/84 [==============================] - 0s 978us/step - loss: 4.9032 - val_loss: 4.9359\n",
      "Epoch 20/500\n",
      "84/84 [==============================] - 0s 1ms/step - loss: 4.8760 - val_loss: 4.6024\n",
      "Epoch 21/500\n",
      "84/84 [==============================] - 0s 996us/step - loss: 4.6402 - val_loss: 4.6242\n",
      "Epoch 22/500\n",
      "84/84 [==============================] - 0s 980us/step - loss: 4.7021 - val_loss: 4.9513\n",
      "Epoch 23/500\n",
      "84/84 [==============================] - 0s 978us/step - loss: 4.7227 - val_loss: 4.9755\n",
      "Epoch 24/500\n",
      "84/84 [==============================] - 0s 909us/step - loss: 4.6919 - val_loss: 4.4780\n",
      "Epoch 25/500\n",
      "84/84 [==============================] - 0s 1ms/step - loss: 4.6158 - val_loss: 4.6141\n",
      "Epoch 26/500\n",
      "84/84 [==============================] - 0s 1ms/step - loss: 4.6817 - val_loss: 4.9248\n",
      "Epoch 27/500\n",
      "84/84 [==============================] - 0s 989us/step - loss: 4.6805 - val_loss: 4.8288\n",
      "Epoch 28/500\n",
      "84/84 [==============================] - 0s 988us/step - loss: 4.6193 - val_loss: 4.6695\n",
      "Epoch 29/500\n",
      "84/84 [==============================] - 0s 1ms/step - loss: 4.5527 - val_loss: 5.3822\n",
      "Epoch 30/500\n",
      "84/84 [==============================] - 0s 960us/step - loss: 4.6801 - val_loss: 4.6971\n",
      "Epoch 31/500\n",
      "84/84 [==============================] - 0s 966us/step - loss: 4.5332 - val_loss: 4.3034\n",
      "Epoch 32/500\n",
      "84/84 [==============================] - 0s 958us/step - loss: 4.5613 - val_loss: 4.5921\n",
      "Epoch 33/500\n",
      "84/84 [==============================] - 0s 911us/step - loss: 4.5882 - val_loss: 4.9920\n",
      "Epoch 34/500\n",
      "84/84 [==============================] - 0s 949us/step - loss: 4.5478 - val_loss: 4.4260\n",
      "Epoch 35/500\n",
      "84/84 [==============================] - 0s 940us/step - loss: 4.9081 - val_loss: 4.7553\n",
      "Epoch 36/500\n",
      "84/84 [==============================] - 0s 926us/step - loss: 4.6657 - val_loss: 4.5980\n",
      "Epoch 37/500\n",
      "84/84 [==============================] - 0s 949us/step - loss: 4.5693 - val_loss: 4.9702\n",
      "Epoch 38/500\n",
      "84/84 [==============================] - 0s 922us/step - loss: 4.7010 - val_loss: 4.6843\n",
      "Epoch 39/500\n",
      "84/84 [==============================] - 0s 946us/step - loss: 4.6126 - val_loss: 4.5687\n",
      "Epoch 40/500\n",
      "84/84 [==============================] - 0s 943us/step - loss: 4.5541 - val_loss: 5.0328\n",
      "Epoch 41/500\n",
      "84/84 [==============================] - 0s 990us/step - loss: 4.5800 - val_loss: 4.6000\n",
      "Epoch 42/500\n",
      "84/84 [==============================] - 0s 991us/step - loss: 4.5291 - val_loss: 4.8665\n",
      "Epoch 43/500\n",
      "84/84 [==============================] - 0s 983us/step - loss: 4.3728 - val_loss: 6.6802\n",
      "Epoch 44/500\n",
      "84/84 [==============================] - 0s 1ms/step - loss: 4.5334 - val_loss: 5.0555\n",
      "Epoch 45/500\n",
      "84/84 [==============================] - 0s 1ms/step - loss: 4.7301 - val_loss: 4.6877\n",
      "Epoch 46/500\n",
      "84/84 [==============================] - 0s 1ms/step - loss: 4.5024 - val_loss: 4.6090\n",
      "Epoch 47/500\n",
      "84/84 [==============================] - 0s 1ms/step - loss: 4.5589 - val_loss: 4.2974\n",
      "Epoch 48/500\n",
      "84/84 [==============================] - 0s 1ms/step - loss: 4.4620 - val_loss: 4.6602\n",
      "Epoch 49/500\n",
      "84/84 [==============================] - 0s 1ms/step - loss: 4.3670 - val_loss: 4.6124\n",
      "Epoch 50/500\n",
      "84/84 [==============================] - 0s 1ms/step - loss: 4.4742 - val_loss: 4.3206\n",
      "Epoch 51/500\n",
      "84/84 [==============================] - 0s 978us/step - loss: 4.4726 - val_loss: 4.4076\n",
      "Epoch 52/500\n",
      "84/84 [==============================] - 0s 1ms/step - loss: 4.4178 - val_loss: 4.4756\n",
      "Epoch 53/500\n",
      "84/84 [==============================] - 0s 1ms/step - loss: 4.4104 - val_loss: 4.5226\n",
      "Epoch 54/500\n",
      "84/84 [==============================] - 0s 1ms/step - loss: 4.4132 - val_loss: 4.8874\n",
      "Epoch 55/500\n",
      "84/84 [==============================] - 0s 960us/step - loss: 4.3794 - val_loss: 4.4458\n",
      "Epoch 56/500\n",
      "84/84 [==============================] - 0s 1ms/step - loss: 4.4285 - val_loss: 4.7951\n",
      "Epoch 57/500\n",
      "84/84 [==============================] - 0s 1ms/step - loss: 4.5034 - val_loss: 4.4326\n",
      "Epoch 58/500\n",
      "84/84 [==============================] - 0s 1ms/step - loss: 4.3470 - val_loss: 4.8369\n",
      "Epoch 59/500\n",
      "84/84 [==============================] - 0s 959us/step - loss: 4.6045 - val_loss: 5.1720\n",
      "Epoch 60/500\n",
      "84/84 [==============================] - 0s 1ms/step - loss: 4.4496 - val_loss: 5.3033\n",
      "Epoch 61/500\n",
      "84/84 [==============================] - 0s 996us/step - loss: 4.5577 - val_loss: 4.5242\n",
      "Epoch 62/500\n",
      "84/84 [==============================] - 0s 937us/step - loss: 4.4522 - val_loss: 4.5463\n",
      "Epoch 63/500\n",
      "84/84 [==============================] - 0s 957us/step - loss: 4.4997 - val_loss: 4.4507\n",
      "Epoch 64/500\n",
      "84/84 [==============================] - 0s 1ms/step - loss: 4.3710 - val_loss: 4.5848\n",
      "Epoch 65/500\n",
      "84/84 [==============================] - 0s 1ms/step - loss: 4.3410 - val_loss: 4.5997\n",
      "Epoch 66/500\n",
      "84/84 [==============================] - 0s 964us/step - loss: 4.4272 - val_loss: 4.5712\n",
      "Epoch 67/500\n",
      "84/84 [==============================] - 0s 914us/step - loss: 4.4768 - val_loss: 4.6335\n",
      "Epoch 68/500\n",
      "84/84 [==============================] - 0s 1ms/step - loss: 4.3891 - val_loss: 4.8519\n",
      "Epoch 69/500\n",
      "84/84 [==============================] - 0s 1ms/step - loss: 4.4444 - val_loss: 4.8315\n",
      "Epoch 70/500\n",
      "84/84 [==============================] - 0s 937us/step - loss: 4.3676 - val_loss: 4.3864\n",
      "Epoch 71/500\n",
      "84/84 [==============================] - 0s 1ms/step - loss: 4.3960 - val_loss: 4.6148\n",
      "Epoch 72/500\n",
      "84/84 [==============================] - 0s 1ms/step - loss: 4.4353 - val_loss: 4.5681\n",
      "Epoch 73/500\n",
      "84/84 [==============================] - 0s 987us/step - loss: 4.4148 - val_loss: 4.5567\n",
      "Epoch 74/500\n",
      "84/84 [==============================] - 0s 981us/step - loss: 4.4620 - val_loss: 4.8259\n",
      "Epoch 75/500\n",
      "84/84 [==============================] - 0s 1ms/step - loss: 4.3966 - val_loss: 4.8138\n",
      "Epoch 76/500\n",
      "84/84 [==============================] - 0s 1ms/step - loss: 4.4326 - val_loss: 5.0670\n",
      "Epoch 77/500\n",
      "84/84 [==============================] - 0s 927us/step - loss: 4.4855 - val_loss: 4.9078\n",
      "Epoch 78/500\n",
      "84/84 [==============================] - 0s 954us/step - loss: 4.4234 - val_loss: 4.5092\n",
      "Epoch 79/500\n",
      "84/84 [==============================] - 0s 1ms/step - loss: 4.3803 - val_loss: 5.0348\n",
      "Epoch 80/500\n",
      "84/84 [==============================] - 0s 1ms/step - loss: 4.4651 - val_loss: 4.4921\n",
      "Epoch 81/500\n"
     ]
    },
    {
     "name": "stdout",
     "output_type": "stream",
     "text": [
      "84/84 [==============================] - 0s 1ms/step - loss: 4.4319 - val_loss: 6.2829\n",
      "Epoch 82/500\n",
      "84/84 [==============================] - 0s 916us/step - loss: 4.4638 - val_loss: 4.4020\n",
      "Epoch 83/500\n",
      "84/84 [==============================] - 0s 907us/step - loss: 4.3976 - val_loss: 4.9866\n",
      "Epoch 84/500\n",
      "84/84 [==============================] - 0s 919us/step - loss: 4.3881 - val_loss: 4.7747\n",
      "Epoch 85/500\n",
      "84/84 [==============================] - 0s 921us/step - loss: 4.3831 - val_loss: 4.4366\n",
      "Epoch 86/500\n",
      "84/84 [==============================] - 0s 1ms/step - loss: 4.3797 - val_loss: 4.3680\n",
      "Epoch 87/500\n",
      "84/84 [==============================] - 0s 958us/step - loss: 4.4088 - val_loss: 4.6103\n",
      "Epoch 88/500\n",
      "84/84 [==============================] - 0s 918us/step - loss: 4.4404 - val_loss: 4.7631\n",
      "Epoch 89/500\n",
      "84/84 [==============================] - 0s 927us/step - loss: 4.5373 - val_loss: 4.4527\n",
      "Epoch 90/500\n",
      "84/84 [==============================] - 0s 933us/step - loss: 4.2642 - val_loss: 4.3168\n",
      "Epoch 91/500\n",
      "84/84 [==============================] - 0s 1ms/step - loss: 4.4270 - val_loss: 4.7441\n",
      "Epoch 92/500\n",
      "84/84 [==============================] - 0s 891us/step - loss: 4.4201 - val_loss: 4.4494\n",
      "Epoch 93/500\n",
      "84/84 [==============================] - 0s 881us/step - loss: 4.5372 - val_loss: 4.6222\n",
      "Epoch 94/500\n",
      "84/84 [==============================] - 0s 896us/step - loss: 4.3874 - val_loss: 4.5457\n",
      "Epoch 95/500\n",
      "84/84 [==============================] - 0s 943us/step - loss: 4.3109 - val_loss: 4.8993\n",
      "Epoch 96/500\n",
      "84/84 [==============================] - 0s 1ms/step - loss: 4.4455 - val_loss: 4.5023\n",
      "Epoch 97/500\n",
      "84/84 [==============================] - 0s 1ms/step - loss: 4.3912 - val_loss: 4.4438\n",
      "Epoch 98/500\n",
      "84/84 [==============================] - 0s 1ms/step - loss: 4.3270 - val_loss: 4.6491\n",
      "Epoch 99/500\n",
      "84/84 [==============================] - 0s 1ms/step - loss: 4.3712 - val_loss: 4.3976\n",
      "Epoch 100/500\n",
      "84/84 [==============================] - 0s 1ms/step - loss: 4.4420 - val_loss: 4.8154\n",
      "Epoch 101/500\n",
      "84/84 [==============================] - 0s 946us/step - loss: 4.5579 - val_loss: 4.8284\n",
      "Epoch 102/500\n",
      "84/84 [==============================] - 0s 898us/step - loss: 4.3969 - val_loss: 4.4382\n",
      "Epoch 103/500\n",
      "84/84 [==============================] - 0s 981us/step - loss: 4.3701 - val_loss: 5.3318\n",
      "Epoch 104/500\n",
      "84/84 [==============================] - 0s 929us/step - loss: 4.6115 - val_loss: 4.4880\n",
      "Epoch 105/500\n",
      "84/84 [==============================] - 0s 1ms/step - loss: 4.4190 - val_loss: 4.4242\n",
      "Epoch 106/500\n",
      "56/84 [===================>..........] - ETA: 0s - loss: 4.2031"
     ]
    }
   ],
   "source": [
    "print(\"[INFO] evaluating on testing set...\")\n",
    "model.fit(X_train, Y_train, epochs=500, validation_split=0.2, verbose=True)"
   ]
  },
  {
   "cell_type": "code",
   "execution_count": null,
   "metadata": {},
   "outputs": [],
   "source": [
    "loss = sqrt(model.evaluate(X_test, Y_test, verbose=True))\n",
    "print(\"[INFO] SQRT loss={:.3f}\".format(loss))"
   ]
  },
  {
   "cell_type": "code",
   "execution_count": null,
   "metadata": {},
   "outputs": [],
   "source": [
    "#predictions = np.round(model.predict(X_test), 0).tolist()\n",
    "predictions = model.predict(X_test).tolist()\n",
    "predictions = [item for items in predictions for item in items]\n",
    "compare = pd.DataFrame({'Prediction': predictions, 'Test Data' : Y_test})\n",
    "compare.Prediction = compare.Prediction.astype(int)\n",
    "compare.head(10)"
   ]
  },
  {
   "cell_type": "markdown",
   "metadata": {},
   "source": []
  },
  {
   "cell_type": "code",
   "execution_count": null,
   "metadata": {},
   "outputs": [],
   "source": []
  }
 ],
 "metadata": {
  "coursera": {
   "course_slug": "python-machine-learning",
   "graded_item_id": "f9SY5",
   "launcher_item_id": "oxndk",
   "part_id": "mh1Vo"
  },
  "kernelspec": {
   "display_name": "Python 3 (ipykernel)",
   "language": "python",
   "name": "python3"
  },
  "language_info": {
   "codemirror_mode": {
    "name": "ipython",
    "version": 3
   },
   "file_extension": ".py",
   "mimetype": "text/x-python",
   "name": "python",
   "nbconvert_exporter": "python",
   "pygments_lexer": "ipython3",
   "version": "3.7.11"
  }
 },
 "nbformat": 4,
 "nbformat_minor": 1
}
